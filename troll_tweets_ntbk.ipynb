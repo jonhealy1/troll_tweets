{
 "cells": [
  {
   "cell_type": "code",
   "execution_count": 4,
   "metadata": {},
   "outputs": [
    {
     "data": {
      "text/html": [
       "<div>\n",
       "<style scoped>\n",
       "    .dataframe tbody tr th:only-of-type {\n",
       "        vertical-align: middle;\n",
       "    }\n",
       "\n",
       "    .dataframe tbody tr th {\n",
       "        vertical-align: top;\n",
       "    }\n",
       "\n",
       "    .dataframe thead th {\n",
       "        text-align: right;\n",
       "    }\n",
       "</style>\n",
       "<table border=\"1\" class=\"dataframe\">\n",
       "  <thead>\n",
       "    <tr style=\"text-align: right;\">\n",
       "      <th></th>\n",
       "      <th>author</th>\n",
       "      <th>content</th>\n",
       "      <th>region</th>\n",
       "      <th>following</th>\n",
       "      <th>followers</th>\n",
       "      <th>post_type</th>\n",
       "      <th>account_type</th>\n",
       "      <th>account_category</th>\n",
       "    </tr>\n",
       "  </thead>\n",
       "  <tbody>\n",
       "    <tr>\n",
       "      <td>243886</td>\n",
       "      <td>AUSTINLOVESBEER</td>\n",
       "      <td>BREAKING: Killer avalanche sweeps three skiers...</td>\n",
       "      <td>United States</td>\n",
       "      <td>41</td>\n",
       "      <td>34</td>\n",
       "      <td>RETWEET</td>\n",
       "      <td>Right</td>\n",
       "      <td>RightTroll</td>\n",
       "    </tr>\n",
       "    <tr>\n",
       "      <td>243887</td>\n",
       "      <td>AUSTINLOVESBEER</td>\n",
       "      <td>Why men should support International Women’s D...</td>\n",
       "      <td>United States</td>\n",
       "      <td>41</td>\n",
       "      <td>34</td>\n",
       "      <td>RETWEET</td>\n",
       "      <td>Right</td>\n",
       "      <td>RightTroll</td>\n",
       "    </tr>\n",
       "    <tr>\n",
       "      <td>243888</td>\n",
       "      <td>AUSTINLOVESBEER</td>\n",
       "      <td>How we can rebuild trust in a UK divided by in...</td>\n",
       "      <td>United States</td>\n",
       "      <td>41</td>\n",
       "      <td>34</td>\n",
       "      <td>RETWEET</td>\n",
       "      <td>Right</td>\n",
       "      <td>RightTroll</td>\n",
       "    </tr>\n",
       "    <tr>\n",
       "      <td>243889</td>\n",
       "      <td>AUSTINLOVESBEER</td>\n",
       "      <td>John Humphrys accused of patronising Angela Ra...</td>\n",
       "      <td>United States</td>\n",
       "      <td>41</td>\n",
       "      <td>34</td>\n",
       "      <td>RETWEET</td>\n",
       "      <td>Right</td>\n",
       "      <td>RightTroll</td>\n",
       "    </tr>\n",
       "    <tr>\n",
       "      <td>243890</td>\n",
       "      <td>AUSTINLOVESBEER</td>\n",
       "      <td>Fossilized poop found in 180-million-year-old ...</td>\n",
       "      <td>United States</td>\n",
       "      <td>41</td>\n",
       "      <td>34</td>\n",
       "      <td>RETWEET</td>\n",
       "      <td>Right</td>\n",
       "      <td>RightTroll</td>\n",
       "    </tr>\n",
       "  </tbody>\n",
       "</table>\n",
       "</div>"
      ],
      "text/plain": [
       "                 author                                            content  \\\n",
       "243886  AUSTINLOVESBEER  BREAKING: Killer avalanche sweeps three skiers...   \n",
       "243887  AUSTINLOVESBEER  Why men should support International Women’s D...   \n",
       "243888  AUSTINLOVESBEER  How we can rebuild trust in a UK divided by in...   \n",
       "243889  AUSTINLOVESBEER  John Humphrys accused of patronising Angela Ra...   \n",
       "243890  AUSTINLOVESBEER  Fossilized poop found in 180-million-year-old ...   \n",
       "\n",
       "               region  following  followers post_type account_type  \\\n",
       "243886  United States         41         34   RETWEET        Right   \n",
       "243887  United States         41         34   RETWEET        Right   \n",
       "243888  United States         41         34   RETWEET        Right   \n",
       "243889  United States         41         34   RETWEET        Right   \n",
       "243890  United States         41         34   RETWEET        Right   \n",
       "\n",
       "       account_category  \n",
       "243886       RightTroll  \n",
       "243887       RightTroll  \n",
       "243888       RightTroll  \n",
       "243889       RightTroll  \n",
       "243890       RightTroll  "
      ]
     },
     "execution_count": 4,
     "metadata": {},
     "output_type": "execute_result"
    }
   ],
   "source": [
    "import pandas as pd\n",
    "df = pd.read_csv(\"russian_troll_tweets/IRAhandle_tweets_1.csv\")\n",
    "df.drop(['external_author_id','language','publish_date','harvested_date'],axis=1,inplace=True)\n",
    "df.drop(['tweet_id','article_url','tco1_step1','tco2_step1','tco3_step1'],axis=1,inplace=True)\n",
    "df.drop(['updates','retweet','new_june_2018','alt_external_id'],axis=1,inplace=True)\n",
    "df.tail()"
   ]
  },
  {
   "cell_type": "code",
   "execution_count": 5,
   "metadata": {},
   "outputs": [],
   "source": [
    "import nltk"
   ]
  },
  {
   "cell_type": "code",
   "execution_count": 6,
   "metadata": {},
   "outputs": [
    {
     "name": "stdout",
     "output_type": "stream",
     "text": [
      "<class 'pandas.core.frame.DataFrame'>\n",
      "RangeIndex: 243891 entries, 0 to 243890\n",
      "Data columns (total 8 columns):\n",
      "author              243891 non-null object\n",
      "content             243891 non-null object\n",
      "region              243853 non-null object\n",
      "following           243891 non-null int64\n",
      "followers           243891 non-null int64\n",
      "post_type           154592 non-null object\n",
      "account_type        243891 non-null object\n",
      "account_category    243891 non-null object\n",
      "dtypes: int64(2), object(6)\n",
      "memory usage: 14.9+ MB\n"
     ]
    }
   ],
   "source": [
    "df.info()"
   ]
  },
  {
   "cell_type": "code",
   "execution_count": 71,
   "metadata": {},
   "outputs": [
    {
     "data": {
      "text/plain": [
       "Right         114810\n",
       "Russian        44964\n",
       "Left           36072\n",
       "Hashtager      27349\n",
       "local          11291\n",
       "Italian         6278\n",
       "German          1297\n",
       "?                608\n",
       "Arabic           475\n",
       "Koch             384\n",
       "Commercial       339\n",
       "French            22\n",
       "Spanish            1\n",
       "Ukranian           1\n",
       "Name: account_type, dtype: int64"
      ]
     },
     "execution_count": 71,
     "metadata": {},
     "output_type": "execute_result"
    }
   ],
   "source": [
    "df.account_type.value_counts()"
   ]
  },
  {
   "cell_type": "code",
   "execution_count": 12,
   "metadata": {},
   "outputs": [
    {
     "data": {
      "image/png": "[encoded data removed]",
      "text/plain": [
       "<Figure size 1440x576 with 1 Axes>"
      ]
     },
     "metadata": {
      "needs_background": "light"
     },
     "output_type": "display_data"
    }
   ],
   "source": [
    "import matplotlib.pyplot as plt\n",
    "Sentiment_count=df.groupby('account_type').count()\n",
    "plt.bar(Sentiment_count.index.values, Sentiment_count['content'])\n",
    "plt.xlabel('Account Type')\n",
    "plt.ylabel('Content')\n",
    "plt.rcParams[\"figure.figsize\"] = (20,18)\n",
    "plt.show()"
   ]
  },
  {
   "cell_type": "code",
   "execution_count": 13,
   "metadata": {},
   "outputs": [
    {
     "name": "stdout",
     "output_type": "stream",
     "text": [
      "\"We have a sitting Democrat US Senator on trial for corruption and you've barely heard a peep from the mainstream media.\" ~ @nedryun https://t.co/gh6g0D1oiC\n"
     ]
    }
   ],
   "source": [
    "text1 = df.loc[0]['content']\n",
    "print(text1)"
   ]
  },
  {
   "cell_type": "code",
   "execution_count": 14,
   "metadata": {},
   "outputs": [
    {
     "name": "stdout",
     "output_type": "stream",
     "text": [
      "['``', 'We', 'have', 'a', 'sitting', 'Democrat', 'US', 'Senator', 'on', 'trial', 'for', 'corruption', 'and', 'you', \"'ve\", 'barely', 'heard', 'a', 'peep', 'from', 'the', 'mainstream', 'media', '.', \"''\", '~', '@', 'nedryun', 'https', ':', '//t.co/gh6g0D1oiC']\n"
     ]
    }
   ],
   "source": [
    "#nltk.download('punkt')\n",
    "\n",
    "tokens=nltk.word_tokenize(text1)\n",
    "print(tokens)"
   ]
  },
  {
   "cell_type": "markdown",
   "metadata": {},
   "source": [
    "POS Tagging\n",
    "\n",
    "The primary target of Part-of-Speech(POS) tagging is to identify the grammatical group of a given word. Whether it is a NOUN, PRONOUN, ADJECTIVE, VERB, ADVERBS, etc. based on the context. POS Tagging looks for relationships within the sentence and assigns a corresponding tag to the word."
   ]
  },
  {
   "cell_type": "code",
   "execution_count": 15,
   "metadata": {},
   "outputs": [
    {
     "name": "stderr",
     "output_type": "stream",
     "text": [
      "[nltk_data] Downloading package averaged_perceptron_tagger to\n",
      "[nltk_data]     /Users/computer/nltk_data...\n",
      "[nltk_data]   Package averaged_perceptron_tagger is already up-to-\n",
      "[nltk_data]       date!\n"
     ]
    },
    {
     "data": {
      "text/plain": [
       "[('``', '``'),\n",
       " ('We', 'PRP'),\n",
       " ('have', 'VBP'),\n",
       " ('a', 'DT'),\n",
       " ('sitting', 'VBG'),\n",
       " ('Democrat', 'NNP'),\n",
       " ('US', 'NNP'),\n",
       " ('Senator', 'NNP'),\n",
       " ('on', 'IN'),\n",
       " ('trial', 'NN'),\n",
       " ('for', 'IN'),\n",
       " ('corruption', 'NN'),\n",
       " ('and', 'CC'),\n",
       " ('you', 'PRP'),\n",
       " (\"'ve\", 'VBP'),\n",
       " ('barely', 'RB'),\n",
       " ('heard', 'VBN'),\n",
       " ('a', 'DT'),\n",
       " ('peep', 'NN'),\n",
       " ('from', 'IN'),\n",
       " ('the', 'DT'),\n",
       " ('mainstream', 'JJ'),\n",
       " ('media', 'NNS'),\n",
       " ('.', '.'),\n",
       " (\"''\", \"''\"),\n",
       " ('~', 'JJ'),\n",
       " ('@', 'NNP'),\n",
       " ('nedryun', 'NN'),\n",
       " ('https', 'NN'),\n",
       " (':', ':'),\n",
       " ('//t.co/gh6g0D1oiC', 'NN')]"
      ]
     },
     "execution_count": 15,
     "metadata": {},
     "output_type": "execute_result"
    }
   ],
   "source": [
    "nltk.download('averaged_perceptron_tagger')\n",
    "nltk.pos_tag(tokens)"
   ]
  },
  {
   "cell_type": "code",
   "execution_count": 28,
   "metadata": {},
   "outputs": [
    {
     "data": {
      "text/plain": [
       "0    RightTroll\n",
       "1    RightTroll\n",
       "2    RightTroll\n",
       "3    RightTroll\n",
       "4    RightTroll\n",
       "5    RightTroll\n",
       "6    RightTroll\n",
       "7    RightTroll\n",
       "8    RightTroll\n",
       "9    RightTroll\n",
       "Name: account_category, dtype: object"
      ]
     },
     "execution_count": 28,
     "metadata": {},
     "output_type": "execute_result"
    }
   ],
   "source": [
    "df['account_category'].head(10)"
   ]
  },
  {
   "cell_type": "code",
   "execution_count": 29,
   "metadata": {},
   "outputs": [],
   "source": [
    "df['pre_clean_len'] = [len(t) for t in df.content]"
   ]
  },
  {
   "cell_type": "code",
   "execution_count": 30,
   "metadata": {},
   "outputs": [
    {
     "data": {
      "text/html": [
       "<div>\n",
       "<style scoped>\n",
       "    .dataframe tbody tr th:only-of-type {\n",
       "        vertical-align: middle;\n",
       "    }\n",
       "\n",
       "    .dataframe tbody tr th {\n",
       "        vertical-align: top;\n",
       "    }\n",
       "\n",
       "    .dataframe thead th {\n",
       "        text-align: right;\n",
       "    }\n",
       "</style>\n",
       "<table border=\"1\" class=\"dataframe\">\n",
       "  <thead>\n",
       "    <tr style=\"text-align: right;\">\n",
       "      <th></th>\n",
       "      <th>author</th>\n",
       "      <th>content</th>\n",
       "      <th>region</th>\n",
       "      <th>following</th>\n",
       "      <th>followers</th>\n",
       "      <th>post_type</th>\n",
       "      <th>account_type</th>\n",
       "      <th>account_category</th>\n",
       "      <th>pre_clean_len</th>\n",
       "    </tr>\n",
       "  </thead>\n",
       "  <tbody>\n",
       "    <tr>\n",
       "      <td>0</td>\n",
       "      <td>10_GOP</td>\n",
       "      <td>\"We have a sitting Democrat US Senator on tria...</td>\n",
       "      <td>Unknown</td>\n",
       "      <td>1052</td>\n",
       "      <td>9636</td>\n",
       "      <td>NaN</td>\n",
       "      <td>Right</td>\n",
       "      <td>RightTroll</td>\n",
       "      <td>156</td>\n",
       "    </tr>\n",
       "    <tr>\n",
       "      <td>1</td>\n",
       "      <td>10_GOP</td>\n",
       "      <td>Marshawn Lynch arrives to game in anti-Trump s...</td>\n",
       "      <td>Unknown</td>\n",
       "      <td>1054</td>\n",
       "      <td>9637</td>\n",
       "      <td>NaN</td>\n",
       "      <td>Right</td>\n",
       "      <td>RightTroll</td>\n",
       "      <td>140</td>\n",
       "    </tr>\n",
       "    <tr>\n",
       "      <td>2</td>\n",
       "      <td>10_GOP</td>\n",
       "      <td>Daughter of fallen Navy Sailor delivers powerf...</td>\n",
       "      <td>Unknown</td>\n",
       "      <td>1054</td>\n",
       "      <td>9637</td>\n",
       "      <td>RETWEET</td>\n",
       "      <td>Right</td>\n",
       "      <td>RightTroll</td>\n",
       "      <td>143</td>\n",
       "    </tr>\n",
       "    <tr>\n",
       "      <td>3</td>\n",
       "      <td>10_GOP</td>\n",
       "      <td>JUST IN: President Trump dedicates Presidents ...</td>\n",
       "      <td>Unknown</td>\n",
       "      <td>1062</td>\n",
       "      <td>9642</td>\n",
       "      <td>NaN</td>\n",
       "      <td>Right</td>\n",
       "      <td>RightTroll</td>\n",
       "      <td>145</td>\n",
       "    </tr>\n",
       "    <tr>\n",
       "      <td>4</td>\n",
       "      <td>10_GOP</td>\n",
       "      <td>19,000 RESPECTING our National Anthem! #StandF...</td>\n",
       "      <td>Unknown</td>\n",
       "      <td>1050</td>\n",
       "      <td>9645</td>\n",
       "      <td>RETWEET</td>\n",
       "      <td>Right</td>\n",
       "      <td>RightTroll</td>\n",
       "      <td>83</td>\n",
       "    </tr>\n",
       "  </tbody>\n",
       "</table>\n",
       "</div>"
      ],
      "text/plain": [
       "   author                                            content   region  \\\n",
       "0  10_GOP  \"We have a sitting Democrat US Senator on tria...  Unknown   \n",
       "1  10_GOP  Marshawn Lynch arrives to game in anti-Trump s...  Unknown   \n",
       "2  10_GOP  Daughter of fallen Navy Sailor delivers powerf...  Unknown   \n",
       "3  10_GOP  JUST IN: President Trump dedicates Presidents ...  Unknown   \n",
       "4  10_GOP  19,000 RESPECTING our National Anthem! #StandF...  Unknown   \n",
       "\n",
       "   following  followers post_type account_type account_category  pre_clean_len  \n",
       "0       1052       9636       NaN        Right       RightTroll            156  \n",
       "1       1054       9637       NaN        Right       RightTroll            140  \n",
       "2       1054       9637   RETWEET        Right       RightTroll            143  \n",
       "3       1062       9642       NaN        Right       RightTroll            145  \n",
       "4       1050       9645   RETWEET        Right       RightTroll             83  "
      ]
     },
     "execution_count": 30,
     "metadata": {},
     "output_type": "execute_result"
    }
   ],
   "source": [
    "df.head()"
   ]
  },
  {
   "cell_type": "code",
   "execution_count": 31,
   "metadata": {},
   "outputs": [
    {
     "name": "stdout",
     "output_type": "stream",
     "text": [
      "{'dataset_shape': (243891, 9),\n",
      " 'pre_clean_len': {'description': 'Length of the tweet before cleaning',\n",
      "                   'type': dtype('int64')},\n",
      " 'sentiment': {'description': 'account type', 'type': dtype('O')},\n",
      " 'text': {'description': 'tweet text', 'type': dtype('O')}}\n"
     ]
    }
   ],
   "source": [
    "from pprint import pprint\n",
    "data_dict = {\n",
    "    'sentiment':{\n",
    "        'type':df.account_type.dtype,\n",
    "        'description':'account type'\n",
    "    },\n",
    "    'text':{\n",
    "        'type':df.content.dtype,\n",
    "        'description':'tweet text'\n",
    "    },\n",
    "    'pre_clean_len':{\n",
    "        'type':df.pre_clean_len.dtype,\n",
    "        'description':'Length of the tweet before cleaning'\n",
    "    },\n",
    "    'dataset_shape':df.shape\n",
    "}\n",
    "pprint(data_dict)"
   ]
  },
  {
   "cell_type": "code",
   "execution_count": 32,
   "metadata": {},
   "outputs": [
    {
     "data": {
      "image/png": "[encoded data removed]",
      "text/plain": [
       "<Figure size 360x360 with 1 Axes>"
      ]
     },
     "metadata": {
      "needs_background": "light"
     },
     "output_type": "display_data"
    }
   ],
   "source": [
    "fig, ax = plt.subplots(figsize=(5, 5))\n",
    "plt.boxplot(df.pre_clean_len)\n",
    "plt.show()\n"
   ]
  },
  {
   "cell_type": "code",
   "execution_count": 38,
   "metadata": {},
   "outputs": [
    {
     "data": {
      "text/html": [
       "<div>\n",
       "<style scoped>\n",
       "    .dataframe tbody tr th:only-of-type {\n",
       "        vertical-align: middle;\n",
       "    }\n",
       "\n",
       "    .dataframe tbody tr th {\n",
       "        vertical-align: top;\n",
       "    }\n",
       "\n",
       "    .dataframe thead th {\n",
       "        text-align: right;\n",
       "    }\n",
       "</style>\n",
       "<table border=\"1\" class=\"dataframe\">\n",
       "  <thead>\n",
       "    <tr style=\"text-align: right;\">\n",
       "      <th></th>\n",
       "      <th>author</th>\n",
       "      <th>content</th>\n",
       "      <th>region</th>\n",
       "      <th>following</th>\n",
       "      <th>followers</th>\n",
       "      <th>post_type</th>\n",
       "      <th>account_type</th>\n",
       "      <th>account_category</th>\n",
       "      <th>pre_clean_len</th>\n",
       "    </tr>\n",
       "  </thead>\n",
       "  <tbody>\n",
       "    <tr>\n",
       "      <td>65112</td>\n",
       "      <td>ALECMOOOOODY</td>\n",
       "      <td>'@LovesTheFab4 @bdsjacquot @PalestineFamily @B...</td>\n",
       "      <td>United States</td>\n",
       "      <td>514</td>\n",
       "      <td>896</td>\n",
       "      <td>RETWEET</td>\n",
       "      <td>Left</td>\n",
       "      <td>LeftTroll</td>\n",
       "      <td>707</td>\n",
       "    </tr>\n",
       "    <tr>\n",
       "      <td>65133</td>\n",
       "      <td>ALECMOOOOODY</td>\n",
       "      <td>'@achmatpandy @ShofarProject @sdeitch @LovesTh...</td>\n",
       "      <td>United States</td>\n",
       "      <td>514</td>\n",
       "      <td>898</td>\n",
       "      <td>RETWEET</td>\n",
       "      <td>Left</td>\n",
       "      <td>LeftTroll</td>\n",
       "      <td>705</td>\n",
       "    </tr>\n",
       "    <tr>\n",
       "      <td>66149</td>\n",
       "      <td>ALECMOOOOODY</td>\n",
       "      <td>'@GefilteFishy @beecee1122 @Louamerica @Shingo...</td>\n",
       "      <td>United States</td>\n",
       "      <td>506</td>\n",
       "      <td>867</td>\n",
       "      <td>RETWEET</td>\n",
       "      <td>Left</td>\n",
       "      <td>LeftTroll</td>\n",
       "      <td>778</td>\n",
       "    </tr>\n",
       "    <tr>\n",
       "      <td>110159</td>\n",
       "      <td>AMELIEBALDWIN</td>\n",
       "      <td>.@Speedcomesfirst @YouTube @GigaLiving @MissLi...</td>\n",
       "      <td>United States</td>\n",
       "      <td>2330</td>\n",
       "      <td>2734</td>\n",
       "      <td>RETWEET</td>\n",
       "      <td>Right</td>\n",
       "      <td>RightTroll</td>\n",
       "      <td>793</td>\n",
       "    </tr>\n",
       "    <tr>\n",
       "      <td>117337</td>\n",
       "      <td>AMELIEBALDWIN</td>\n",
       "      <td>'@GlennMcmillan14 @educatormarcia @wrow51 @Puf...</td>\n",
       "      <td>United States</td>\n",
       "      <td>2296</td>\n",
       "      <td>2792</td>\n",
       "      <td>RETWEET</td>\n",
       "      <td>Right</td>\n",
       "      <td>RightTroll</td>\n",
       "      <td>776</td>\n",
       "    </tr>\n",
       "    <tr>\n",
       "      <td>118718</td>\n",
       "      <td>AMELIEBALDWIN</td>\n",
       "      <td>'@bdsjacquot @Springbaby777 @yadid_y @RokedvMa...</td>\n",
       "      <td>United States</td>\n",
       "      <td>2287</td>\n",
       "      <td>2829</td>\n",
       "      <td>RETWEET</td>\n",
       "      <td>Right</td>\n",
       "      <td>RightTroll</td>\n",
       "      <td>816</td>\n",
       "    </tr>\n",
       "    <tr>\n",
       "      <td>118801</td>\n",
       "      <td>AMELIEBALDWIN</td>\n",
       "      <td>'@RokedvMagen @AngryScreed @7251214 @coinabs @...</td>\n",
       "      <td>United States</td>\n",
       "      <td>2287</td>\n",
       "      <td>2825</td>\n",
       "      <td>RETWEET</td>\n",
       "      <td>Right</td>\n",
       "      <td>RightTroll</td>\n",
       "      <td>809</td>\n",
       "    </tr>\n",
       "    <tr>\n",
       "      <td>121450</td>\n",
       "      <td>AMELIEBALDWIN</td>\n",
       "      <td>'@sthroman4491 @MaryglennMary @TurbulentOlivia...</td>\n",
       "      <td>United States</td>\n",
       "      <td>2284</td>\n",
       "      <td>2855</td>\n",
       "      <td>NaN</td>\n",
       "      <td>Right</td>\n",
       "      <td>RightTroll</td>\n",
       "      <td>731</td>\n",
       "    </tr>\n",
       "    <tr>\n",
       "      <td>192223</td>\n",
       "      <td>ANTONHAYHAY</td>\n",
       "      <td>'@Im_TheAntiTrump @MamaKeiki @funder @Khanoiss...</td>\n",
       "      <td>United States</td>\n",
       "      <td>299</td>\n",
       "      <td>705</td>\n",
       "      <td>RETWEET</td>\n",
       "      <td>Left</td>\n",
       "      <td>LeftTroll</td>\n",
       "      <td>772</td>\n",
       "    </tr>\n",
       "  </tbody>\n",
       "</table>\n",
       "</div>"
      ],
      "text/plain": [
       "               author                                            content  \\\n",
       "65112    ALECMOOOOODY  '@LovesTheFab4 @bdsjacquot @PalestineFamily @B...   \n",
       "65133    ALECMOOOOODY  '@achmatpandy @ShofarProject @sdeitch @LovesTh...   \n",
       "66149    ALECMOOOOODY  '@GefilteFishy @beecee1122 @Louamerica @Shingo...   \n",
       "110159  AMELIEBALDWIN  .@Speedcomesfirst @YouTube @GigaLiving @MissLi...   \n",
       "117337  AMELIEBALDWIN  '@GlennMcmillan14 @educatormarcia @wrow51 @Puf...   \n",
       "118718  AMELIEBALDWIN  '@bdsjacquot @Springbaby777 @yadid_y @RokedvMa...   \n",
       "118801  AMELIEBALDWIN  '@RokedvMagen @AngryScreed @7251214 @coinabs @...   \n",
       "121450  AMELIEBALDWIN  '@sthroman4491 @MaryglennMary @TurbulentOlivia...   \n",
       "192223    ANTONHAYHAY  '@Im_TheAntiTrump @MamaKeiki @funder @Khanoiss...   \n",
       "\n",
       "               region  following  followers post_type account_type  \\\n",
       "65112   United States        514        896   RETWEET         Left   \n",
       "65133   United States        514        898   RETWEET         Left   \n",
       "66149   United States        506        867   RETWEET         Left   \n",
       "110159  United States       2330       2734   RETWEET        Right   \n",
       "117337  United States       2296       2792   RETWEET        Right   \n",
       "118718  United States       2287       2829   RETWEET        Right   \n",
       "118801  United States       2287       2825   RETWEET        Right   \n",
       "121450  United States       2284       2855       NaN        Right   \n",
       "192223  United States        299        705   RETWEET         Left   \n",
       "\n",
       "       account_category  pre_clean_len  \n",
       "65112         LeftTroll            707  \n",
       "65133         LeftTroll            705  \n",
       "66149         LeftTroll            778  \n",
       "110159       RightTroll            793  \n",
       "117337       RightTroll            776  \n",
       "118718       RightTroll            816  \n",
       "118801       RightTroll            809  \n",
       "121450       RightTroll            731  \n",
       "192223        LeftTroll            772  "
      ]
     },
     "execution_count": 38,
     "metadata": {},
     "output_type": "execute_result"
    }
   ],
   "source": [
    "df[df.pre_clean_len > 700].head(20)"
   ]
  },
  {
   "cell_type": "code",
   "execution_count": 55,
   "metadata": {},
   "outputs": [
    {
     "name": "stdout",
     "output_type": "stream",
     "text": [
      "'@LovesTheFab4 @bdsjacquot @PalestineFamily @BaruchHashem365 @amjadrasmy @omgstater @ralvarezdj @ghalianno @Alison_mayhem37 @FR33_W0RLD @RKazbaar @Raz581 @Springbaby777 @_moobs_ @coinabs @RokedvMagen @lisabarrett23 @Andysolomono @mohamedAbouswel @SpinMeister_UK @harmlesstree2 @Free4Hungry @LollllllaJR @MLKstudios @iamsideeque @ANINDAUK @joe_n1nety @TanyaKasim @AnwarPrinceP @MrNegroMilitant @AlCaselli @khussh_ @gallinini1 @loveangel412 @Ramdog1980 @teddy_cat1 @rk70534 @Laizesfaire @purplhaze42 @AngelWarrior512 @ChuckWagonMault @levy_haaretz @JewishChron @IndyVoices @POTUS @GMA @MailOnline  @NYTimes @BBCworld : @Israel Dropped 100 TONS of BOMBS in 9 hrs on #Gaza = How SICK !  https://t.co/6la23a2LUz'\n"
     ]
    }
   ],
   "source": [
    "demo1 = df.content[65112]\n",
    "print(demo1)"
   ]
  },
  {
   "cell_type": "code",
   "execution_count": 54,
   "metadata": {},
   "outputs": [
    {
     "name": "stdout",
     "output_type": "stream",
     "text": [
      "'@LovesTheFab4 @bdsjacquot @PalestineFamily @BaruchHashem365 @amjadrasmy @omgstater @ralvarezdj @ghalianno @Alison_mayhem37 @FR33_W0RLD @RKazbaar @Raz581 @Springbaby777 @_moobs_ @coinabs @RokedvMagen @lisabarrett23 @Andysolomono @mohamedAbouswel @SpinMeister_UK @harmlesstree2 @Free4Hungry @LollllllaJR @MLKstudios @iamsideeque @ANINDAUK @joe_n1nety @TanyaKasim @AnwarPrinceP @MrNegroMilitant @AlCaselli @khussh_ @gallinini1 @loveangel412 @Ramdog1980 @teddy_cat1 @rk70534 @Laizesfaire @purplhaze42 @AngelWarrior512 @ChuckWagonMault @levy_haaretz @JewishChron @IndyVoices @POTUS @GMA @MailOnline  @NYTimes @BBCworld : @Israel Dropped 100 TONS of BOMBS in 9 hrs on #Gaza = How SICK !  https://t.co/6la23a2LUz'\n"
     ]
    }
   ],
   "source": [
    "from bs4 import BeautifulSoup\n",
    "example1 = BeautifulSoup(demo1, \"html.parser\")\n",
    "print(example1.get_text())"
   ]
  },
  {
   "cell_type": "code",
   "execution_count": 60,
   "metadata": {},
   "outputs": [
    {
     "name": "stdout",
     "output_type": "stream",
     "text": [
      "'        _mayhem37 _W0RLD    @_moobs_      _UK       _n1nety     _    _cat1      _haaretz         :  Dropped 100 TONS of BOMBS in 9 hrs on #Gaza = How SICK !  https://t.co/6la23a2LUz'\n"
     ]
    }
   ],
   "source": [
    "import re\n",
    "demo2 = re.sub(r'@[A-Za-z0-9]+','',demo1)\n",
    "print(demo2)"
   ]
  },
  {
   "cell_type": "code",
   "execution_count": 59,
   "metadata": {},
   "outputs": [
    {
     "data": {
      "text/plain": [
       "\"'        _mayhem37 _W0RLD    @_moobs_      _UK       _n1nety     _    _cat1      _haaretz         :  Dropped 100 TONS of BOMBS in 9 hrs on #Gaza = How SICK !  '\""
      ]
     },
     "execution_count": 59,
     "metadata": {},
     "output_type": "execute_result"
    }
   ],
   "source": [
    "re.sub('https?://[A-Za-z0-9./]+','',demo2)"
   ]
  },
  {
   "cell_type": "markdown",
   "metadata": {},
   "source": [
    "#### Data Cleaning Function"
   ]
  },
  {
   "cell_type": "code",
   "execution_count": 61,
   "metadata": {},
   "outputs": [
    {
     "data": {
      "text/plain": [
       "['we have a sitting democrat us senator on trial for corruption and you ve barely heard a peep from the mainstream media',\n",
       " 'marshawn lynch arrives to game in anti trump shirt judging by his sagging pants the shirt should say lynch vs belt',\n",
       " 'daughter of fallen navy sailor delivers powerful monologue on anthem protests burns her nfl packers gear boycottnfl',\n",
       " 'just in president trump dedicates presidents cup golf tournament trophy to the people of florida texas and puerto rico',\n",
       " 'respecting our national anthem standforouranthem',\n",
       " 'dan bongino nobody trolls liberals better than donald trump exactly',\n",
       " '',\n",
       " 'doesn t matter that cnn doesn t report on your crimes this won t change the fact that you re going down',\n",
       " 'as much as i hate promoting cnn article here they are admitting everything trump said about pr relief two days ago',\n",
       " 'after the genocide remark from san juan mayor the narrative has changed though fixes it s reporting constantly',\n",
       " 'after the genocide remark from san juan mayor the narrative has changed though fixes its reporting constantly',\n",
       " 'why won t she apologize to us for lying',\n",
       " 'sarah sanders destroys nbc reporter trump made a joke maybe you guys should get a sense of humor',\n",
       " 'hi remember when you said weinstein is a wonderful human being a good friend and just a powerhouse do you disavow',\n",
       " 'hi remember when you praised harvey weinstein as a wonderful human being a good friend and a powerhouse do you disavow',\n",
       " 'wow even cnn is slamming the obamas for silence on weinstein where is michelle obama where is president obama',\n",
       " 'first lady melania trump visits infant opioid treatment center in huntington west virginia we love your grace and style',\n",
       " 'breaking the audio of sexual predator harvey weinstein admitting to assaulting model ambra gutierrez has leaked i am truly disgusted',\n",
       " 'build that wall',\n",
       " 'it took hillary abt minutes to blame nra for madman s rampage but days to sorta kinda blame harvey weinstein his sexually assaults',\n",
       " 'because he hates women so much president trump just nominated another woman kirstjen nielsen to be in his cabinet',\n",
       " 'congrats to kirstjen nielsen our next secretary of homeland security well deserved',\n",
       " 'pres trump we want lower taxes bigger paychecks and more jobs for american truckers and for american workers',\n",
       " 'i am an eagle scout only boys should be in boy scouts only girls should be in girl scouts don t change things that work',\n",
       " 'this eminem freestyle proves that celebs still haven t learned that nobody cares what they have to say sad hiphopawards',\n",
       " 'do you agree with the boy scouts for allowing girls to join',\n",
       " 'pres trump just dropped a nuke truth bomb the nfl should have suspended kaepernick for one game and he would have never done it again',\n",
       " 'chief of staff john kelly destroys liberal reporters it is astounding to me how much is misreported',\n",
       " 'network news has become so partisan distorted and fake that licenses must be challenged and if appropriate revoked not fair to public',\n",
       " 'so we ve gone from russia literally hacked the election for trump to russians helped trump get elected by hacking pokemon go amazing',\n",
       " 'to be clear when we say pok mon go was used we mean there is no evidence pokemon go was used',\n",
       " 'we love you mr president',\n",
       " 'thank you for being the we elected',\n",
       " 'so wait did the russians also purchase hillary clinton pokemon go to the polls',\n",
       " 'students describe what it s like being a conservative on a college campus the described behavior is inexplicable and inexcusable',\n",
       " 'eminem is a trump supporter',\n",
       " 'boom judge napolitano calls out hillary for bogus claim she can t return weinstein donation',\n",
       " 'burgess owens on the nfl protest one thing about leftists they are all about principle until the dollars start leaving their pocketbooks',\n",
       " 'let s show sean hannity some love take a minute to call his hotline let him know how much we support him',\n",
       " 'a cute yo girl had a trump dress on hannity asked her why she liked him she said because he s doing great things for the country',\n",
       " 'is this real',\n",
       " 'happy birthday to the u s navy and thank you to all the brave women and men who protect and serve',\n",
       " 'oh',\n",
       " 'president trump iran was economically bankrupt until obama gifted them billion in cash infused billion into their economy',\n",
       " 'it was straight up prostitution and that s the way hollywood is run these days villa',\n",
       " 'all of the good guys i know wanted us out of iran deal and all of the globalists wanted us in it look at whose mad today deep state',\n",
       " 'nfl having to write out how players conduct themselves during the anthem is hilarious i learned how to honor the flag in grade school maga',\n",
       " 'dear cnn when will you be interviewing one of the mayors in puerto rico s other municipios',\n",
       " 'liberals would rather side with iran north korea and cuba then our president our country and our allies israel japan s korea sad',\n",
       " 'villa the hollywood swamp is starting to crumble if weinstein is getting pulled to the surface all these other smaller players will',\n",
       " 'wait where were all these women when bill clinton raped juanita broderick oh yea they were making fun of her womenboycotttwitter',\n",
       " 'a west virginia coal miner sings the national anthem before going underground some people still have respect for their country',\n",
       " 'after posting their support of president trump arizona restaurant forced to close down due to death threats this is the peaceful left',\n",
       " 'thank you for being a potus we elected',\n",
       " 'more proud now than ever finally after years of obama we have a president who stands up for americanism and puts americans first',\n",
       " 'let s make america powerful industrial and proud again',\n",
       " 'obamacare is a disaster',\n",
       " 'we need to end obamacare as soon as possible before it kills millions',\n",
       " 'please mr president take action get rid of it we don t want socialism in our country',\n",
       " 'please mr president take action get rid of it we don t want socialism in our country',\n",
       " 'health insurance stocks which have gone through the roof during the obamacare years plunged yesterday after i ended their dems windfall',\n",
       " 'fakenews msm has been out to get president trump since he was a candidate be warned we the people are fighting back you re going down',\n",
       " 'president trump tweeted this back in',\n",
       " 'president trump tweeted this back in',\n",
       " 'liberal s are the most hate filled racist hypocritical bigoted irrational mentally unstable creatures on earth a danger to the world',\n",
       " 'photo of nfl players today protesting domestic violence sexual assault and child abuse',\n",
       " 'i have no sympathy for hayley geftman gold lasvegas',\n",
       " 'president trump and first lady melania trump lead white house staff in a moment of silence for lasvegas',\n",
       " 'ignorant irrelevant and exploitative',\n",
       " 'lasvegasshooting victim sonny melton was a tennessee nurse who died while shielding his wife from gunfire',\n",
       " 'tmz now reporting tom petty is still clinging to life so if he comes back to consciousness he can read all the nice tributes',\n",
       " 'thousands of americans are waiting in line to donate blood in las vegas lasvegasstrong',\n",
       " 'here is video of woman approaching the man saying hi steve could this be stephen paddock lasvegasshooting',\n",
       " 'tom petty hearing the reports of his own death',\n",
       " 'journalism',\n",
       " 'sunrise hospital in las vegas today let s take a moment to thank dedicated and tireless doctors nurses and hospital staff vegasstrong',\n",
       " 'will players take a knee tonight to protest the lives saved by las vegas police officers will espn spit on first responders yet again',\n",
       " 'wow this man was literally standing when everyone was laying down sipping a beer and giving the shooter the finger vegasstrong',\n",
       " 'crybaby marshawn lynch of the oakland raiders sitting during the anthem hiding behind staff what a joke the nfl has become boycottnfl',\n",
       " 'the truth about puerto rico it s not the propaganda mayor of sanjuan has been spewing w msm cluless celebrities rt takeaknee',\n",
       " 'fema deputy rips democrat san juan mayor she has not participated in any of our relief efforts',\n",
       " 'wow cnn cuts off former puerto rico ag after accusing san juan mayor of being a political hack fakenews',\n",
       " 'police stand up and rush in to save lives in las vegas marcus peters sits during the anthem despite a national day of mourning despicable',\n",
       " 'in hysterics as puerto rico fully embraces president trump w love and cheers of praise fake news narrative crushed',\n",
       " 'a couple hours before the las vegas mass shooting the crowd proudly sang god bless america beautiful video',\n",
       " 'politics this is tragic',\n",
       " 'and meet with storm survivors and pass out supplies at church in puerto rico today prstrong',\n",
       " 'kids choose your idols wisely',\n",
       " 'house democrat katherine clark refuses to participate in moment of silence for las vegas victims walks out of chamber this is so sick',\n",
       " 'the senate intel committee basically confirms today that they have absolutely nothing on russian collusion what a waste of time and money',\n",
       " 'pres trump to las vegas first responders you showed the world and the world is watching and you showed what professionalism is all about',\n",
       " 'this is the same woman who said don t politicise it before politicising it in the very same tweet',\n",
       " 'a brilliantly spot on cartoon',\n",
       " 'love it one of your very best',\n",
       " 'wow black lives matter protesters shut down the aclu s campus free speech event because liberalism is white supremacy',\n",
       " 'guns don t kill people people kill people',\n",
       " 'las vegas victim meets trump stands up on wounded leg i will always respect my country my president my flag you won t see this on cnn',\n",
       " 'dead and injured in las vegas where s the facebook photo filter to support victims of this tragedy',\n",
       " 'you won t see this picture on cnn',\n",
       " 'ivana trump he still asks me for advice he asks should i tweet should i not i say i think you should tweet']"
      ]
     },
     "execution_count": 61,
     "metadata": {},
     "output_type": "execute_result"
    }
   ],
   "source": [
    "from nltk.tokenize import WordPunctTokenizer\n",
    "tok = WordPunctTokenizer()\n",
    "pat1 = r'@[A-Za-z0-9]+'\n",
    "pat2 = r'https?://[A-Za-z0-9./]+'\n",
    "combined_pat = r'|'.join((pat1, pat2))\n",
    "def tweet_cleaner(text):\n",
    "    soup = BeautifulSoup(text, 'html.parser')\n",
    "    souped = soup.get_text()\n",
    "    stripped = re.sub(combined_pat, '', souped)\n",
    "    try:\n",
    "        clean = stripped.decode(\"utf-8-sig\").replace(u\"\\ufffd\", \"?\")\n",
    "    except:\n",
    "        clean = stripped\n",
    "    letters_only = re.sub(\"[^a-zA-Z]\", \" \", clean)\n",
    "    lower_case = letters_only.lower()\n",
    "    # During the letters_only process two lines above, it has created unnecessay white spaces,\n",
    "    # I will tokenize and join together to remove unneccessary white spaces\n",
    "    words = tok.tokenize(lower_case)\n",
    "    return (\" \".join(words)).strip()\n",
    "testing = df.content[:100]\n",
    "test_result = []\n",
    "for t in testing:\n",
    "    test_result.append(tweet_cleaner(t))\n",
    "test_result"
   ]
  },
  {
   "cell_type": "code",
   "execution_count": 67,
   "metadata": {},
   "outputs": [
    {
     "name": "stdout",
     "output_type": "stream",
     "text": [
      "Cleaning and parsing the tweets...\n",
      "\n",
      "Tweets 10000 of 240000 has been processed\n",
      "Tweets 20000 of 240000 has been processed\n",
      "Tweets 30000 of 240000 has been processed\n",
      "Tweets 40000 of 240000 has been processed\n",
      "Tweets 50000 of 240000 has been processed\n",
      "Tweets 60000 of 240000 has been processed\n",
      "Tweets 70000 of 240000 has been processed\n",
      "Tweets 80000 of 240000 has been processed\n",
      "Tweets 90000 of 240000 has been processed\n",
      "Tweets 100000 of 240000 has been processed\n",
      "Tweets 110000 of 240000 has been processed\n",
      "Tweets 120000 of 240000 has been processed\n",
      "Tweets 130000 of 240000 has been processed\n",
      "Tweets 140000 of 240000 has been processed\n",
      "Tweets 150000 of 240000 has been processed\n",
      "Tweets 160000 of 240000 has been processed\n",
      "Tweets 170000 of 240000 has been processed\n",
      "Tweets 180000 of 240000 has been processed\n",
      "Tweets 190000 of 240000 has been processed\n",
      "Tweets 200000 of 240000 has been processed\n",
      "Tweets 210000 of 240000 has been processed\n",
      "Tweets 220000 of 240000 has been processed\n",
      "Tweets 230000 of 240000 has been processed\n",
      "Tweets 240000 of 240000 has been processed\n"
     ]
    }
   ],
   "source": [
    "nums = [0,240000]\n",
    "print(\"Cleaning and parsing the tweets...\\n\")\n",
    "clean_tweet_texts = []\n",
    "for i in range(nums[0],nums[1]):\n",
    "    if( (i+1)%10000 == 0 ):\n",
    "        print(\"Tweets %d of %d has been processed\" % ( i+1, nums[1] ))                                                                  \n",
    "    clean_tweet_texts.append(tweet_cleaner(df['content'][i]))"
   ]
  },
  {
   "cell_type": "code",
   "execution_count": 68,
   "metadata": {},
   "outputs": [
    {
     "name": "stdout",
     "output_type": "stream",
     "text": [
      "marshawn lynch arrives to game in anti trump shirt judging by his sagging pants the shirt should say lynch vs belt\n"
     ]
    }
   ],
   "source": [
    "print(clean_tweet_texts[1])"
   ]
  },
  {
   "cell_type": "code",
   "execution_count": 70,
   "metadata": {},
   "outputs": [
    {
     "data": {
      "text/html": [
       "<div>\n",
       "<style scoped>\n",
       "    .dataframe tbody tr th:only-of-type {\n",
       "        vertical-align: middle;\n",
       "    }\n",
       "\n",
       "    .dataframe tbody tr th {\n",
       "        vertical-align: top;\n",
       "    }\n",
       "\n",
       "    .dataframe thead th {\n",
       "        text-align: right;\n",
       "    }\n",
       "</style>\n",
       "<table border=\"1\" class=\"dataframe\">\n",
       "  <thead>\n",
       "    <tr style=\"text-align: right;\">\n",
       "      <th></th>\n",
       "      <th>text</th>\n",
       "      <th>account_type</th>\n",
       "    </tr>\n",
       "  </thead>\n",
       "  <tbody>\n",
       "    <tr>\n",
       "      <td>0</td>\n",
       "      <td>we have a sitting democrat us senator on trial...</td>\n",
       "      <td>Right</td>\n",
       "    </tr>\n",
       "    <tr>\n",
       "      <td>1</td>\n",
       "      <td>marshawn lynch arrives to game in anti trump s...</td>\n",
       "      <td>Right</td>\n",
       "    </tr>\n",
       "    <tr>\n",
       "      <td>2</td>\n",
       "      <td>daughter of fallen navy sailor delivers powerf...</td>\n",
       "      <td>Right</td>\n",
       "    </tr>\n",
       "    <tr>\n",
       "      <td>3</td>\n",
       "      <td>just in president trump dedicates presidents c...</td>\n",
       "      <td>Right</td>\n",
       "    </tr>\n",
       "    <tr>\n",
       "      <td>4</td>\n",
       "      <td>respecting our national anthem standforouranthem</td>\n",
       "      <td>Right</td>\n",
       "    </tr>\n",
       "  </tbody>\n",
       "</table>\n",
       "</div>"
      ],
      "text/plain": [
       "                                                text account_type\n",
       "0  we have a sitting democrat us senator on trial...        Right\n",
       "1  marshawn lynch arrives to game in anti trump s...        Right\n",
       "2  daughter of fallen navy sailor delivers powerf...        Right\n",
       "3  just in president trump dedicates presidents c...        Right\n",
       "4   respecting our national anthem standforouranthem        Right"
      ]
     },
     "execution_count": 70,
     "metadata": {},
     "output_type": "execute_result"
    }
   ],
   "source": [
    "clean_df = pd.DataFrame(clean_tweet_texts,columns=['text'])\n",
    "clean_df['account_type'] = df.account_type\n",
    "clean_df.head()"
   ]
  },
  {
   "cell_type": "code",
   "execution_count": 72,
   "metadata": {},
   "outputs": [
    {
     "data": {
      "text/html": [
       "<div>\n",
       "<style scoped>\n",
       "    .dataframe tbody tr th:only-of-type {\n",
       "        vertical-align: middle;\n",
       "    }\n",
       "\n",
       "    .dataframe tbody tr th {\n",
       "        vertical-align: top;\n",
       "    }\n",
       "\n",
       "    .dataframe thead th {\n",
       "        text-align: right;\n",
       "    }\n",
       "</style>\n",
       "<table border=\"1\" class=\"dataframe\">\n",
       "  <thead>\n",
       "    <tr style=\"text-align: right;\">\n",
       "      <th></th>\n",
       "      <th>text</th>\n",
       "      <th>account_type</th>\n",
       "    </tr>\n",
       "  </thead>\n",
       "  <tbody>\n",
       "    <tr>\n",
       "      <td>0</td>\n",
       "      <td>we have a sitting democrat us senator on trial...</td>\n",
       "      <td>Right</td>\n",
       "    </tr>\n",
       "    <tr>\n",
       "      <td>1</td>\n",
       "      <td>marshawn lynch arrives to game in anti trump s...</td>\n",
       "      <td>Right</td>\n",
       "    </tr>\n",
       "    <tr>\n",
       "      <td>2</td>\n",
       "      <td>daughter of fallen navy sailor delivers powerf...</td>\n",
       "      <td>Right</td>\n",
       "    </tr>\n",
       "    <tr>\n",
       "      <td>3</td>\n",
       "      <td>just in president trump dedicates presidents c...</td>\n",
       "      <td>Right</td>\n",
       "    </tr>\n",
       "    <tr>\n",
       "      <td>4</td>\n",
       "      <td>respecting our national anthem standforouranthem</td>\n",
       "      <td>Right</td>\n",
       "    </tr>\n",
       "  </tbody>\n",
       "</table>\n",
       "</div>"
      ],
      "text/plain": [
       "                                                text account_type\n",
       "0  we have a sitting democrat us senator on trial...        Right\n",
       "1  marshawn lynch arrives to game in anti trump s...        Right\n",
       "2  daughter of fallen navy sailor delivers powerf...        Right\n",
       "3  just in president trump dedicates presidents c...        Right\n",
       "4   respecting our national anthem standforouranthem        Right"
      ]
     },
     "execution_count": 72,
     "metadata": {},
     "output_type": "execute_result"
    }
   ],
   "source": [
    "clean_df.to_csv('clean_tweet.csv',encoding='utf-8')\n",
    "csv = 'clean_tweet.csv'\n",
    "my_df = pd.read_csv(csv,index_col=0)\n",
    "my_df.head()"
   ]
  },
  {
   "cell_type": "code",
   "execution_count": null,
   "metadata": {},
   "outputs": [],
   "source": []
  }
 ],
 "metadata": {
  "kernelspec": {
   "display_name": "Python 3",
   "language": "python",
   "name": "python3"
  },
  "language_info": {
   "codemirror_mode": {
    "name": "ipython",
    "version": 3
   },
   "file_extension": ".py",
   "mimetype": "text/x-python",
   "name": "python",
   "nbconvert_exporter": "python",
   "pygments_lexer": "ipython3",
   "version": "3.7.3"
  }
 },
 "nbformat": 4,
 "nbformat_minor": 2
}
