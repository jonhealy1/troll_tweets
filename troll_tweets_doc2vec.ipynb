{
 "cells": [
  {
   "cell_type": "code",
   "execution_count": 1,
   "metadata": {},
   "outputs": [],
   "source": [
    "import pandas as pd  \n",
    "import numpy as np\n",
    "import matplotlib.pyplot as plt\n",
    "plt.style.use('fivethirtyeight')\n",
    "\n",
    "%matplotlib inline\n",
    "%config InlineBackend.figure_format = 'retina'"
   ]
  },
  {
   "cell_type": "code",
   "execution_count": 2,
   "metadata": {},
   "outputs": [
    {
     "data": {
      "text/html": [
       "<div>\n",
       "<style scoped>\n",
       "    .dataframe tbody tr th:only-of-type {\n",
       "        vertical-align: middle;\n",
       "    }\n",
       "\n",
       "    .dataframe tbody tr th {\n",
       "        vertical-align: top;\n",
       "    }\n",
       "\n",
       "    .dataframe thead th {\n",
       "        text-align: right;\n",
       "    }\n",
       "</style>\n",
       "<table border=\"1\" class=\"dataframe\">\n",
       "  <thead>\n",
       "    <tr style=\"text-align: right;\">\n",
       "      <th></th>\n",
       "      <th>text</th>\n",
       "      <th>account_type</th>\n",
       "    </tr>\n",
       "  </thead>\n",
       "  <tbody>\n",
       "    <tr>\n",
       "      <td>0</td>\n",
       "      <td>we have sitting democrat us senator on trial f...</td>\n",
       "      <td>Right</td>\n",
       "    </tr>\n",
       "    <tr>\n",
       "      <td>1</td>\n",
       "      <td>marshawn lynch arrives to game in anti trump s...</td>\n",
       "      <td>Right</td>\n",
       "    </tr>\n",
       "    <tr>\n",
       "      <td>2</td>\n",
       "      <td>daughter of fallen navy sailor delivers powerf...</td>\n",
       "      <td>Right</td>\n",
       "    </tr>\n",
       "    <tr>\n",
       "      <td>3</td>\n",
       "      <td>just in president trump dedicates presidents c...</td>\n",
       "      <td>Right</td>\n",
       "    </tr>\n",
       "    <tr>\n",
       "      <td>4</td>\n",
       "      <td>respecting our national anthem standforouranthem</td>\n",
       "      <td>Right</td>\n",
       "    </tr>\n",
       "  </tbody>\n",
       "</table>\n",
       "</div>"
      ],
      "text/plain": [
       "                                                text account_type\n",
       "0  we have sitting democrat us senator on trial f...        Right\n",
       "1  marshawn lynch arrives to game in anti trump s...        Right\n",
       "2  daughter of fallen navy sailor delivers powerf...        Right\n",
       "3  just in president trump dedicates presidents c...        Right\n",
       "4   respecting our national anthem standforouranthem        Right"
      ]
     },
     "execution_count": 2,
     "metadata": {},
     "output_type": "execute_result"
    }
   ],
   "source": [
    "csv = 'clean_tweet.csv'\n",
    "my_df = pd.read_csv(csv,index_col=0)\n",
    "my_df.head()"
   ]
  },
  {
   "cell_type": "code",
   "execution_count": 3,
   "metadata": {},
   "outputs": [
    {
     "name": "stdout",
     "output_type": "stream",
     "text": [
      "<class 'pandas.core.frame.DataFrame'>\n",
      "RangeIndex: 202315 entries, 0 to 202314\n",
      "Data columns (total 2 columns):\n",
      "text            202315 non-null object\n",
      "account_type    202315 non-null object\n",
      "dtypes: object(2)\n",
      "memory usage: 3.1+ MB\n"
     ]
    }
   ],
   "source": [
    "my_df.dropna(inplace=True)\n",
    "my_df.reset_index(drop=True,inplace=True)\n",
    "my_df.info()"
   ]
  },
  {
   "cell_type": "code",
   "execution_count": 4,
   "metadata": {},
   "outputs": [],
   "source": [
    "x = my_df.text\n",
    "y = my_df.account_type"
   ]
  },
  {
   "cell_type": "code",
   "execution_count": 6,
   "metadata": {},
   "outputs": [],
   "source": [
    "#from sklearn.cross_validation import train_test_split\n",
    "from sklearn.model_selection import train_test_split\n",
    "SEED = 2000\n",
    "x_train, x_validation_and_test, y_train, y_validation_and_test = train_test_split(x, y, test_size=.02, random_state=SEED)\n",
    "x_validation, x_test, y_validation, y_test = train_test_split(x_validation_and_test, y_validation_and_test, test_size=.5, random_state=SEED)"
   ]
  },
  {
   "cell_type": "code",
   "execution_count": 7,
   "metadata": {},
   "outputs": [],
   "source": [
    "from sklearn.linear_model import LogisticRegression"
   ]
  },
  {
   "cell_type": "code",
   "execution_count": 10,
   "metadata": {},
   "outputs": [],
   "source": [
    "from tqdm import tqdm\n",
    "#tqdm.pandas(desc=\"progress-bar\")\n",
    "from gensim.models import Doc2Vec\n",
    "from gensim.models.doc2vec import LabeledSentence\n",
    "import multiprocessing\n",
    "from sklearn import utils"
   ]
  },
  {
   "cell_type": "code",
   "execution_count": 11,
   "metadata": {},
   "outputs": [],
   "source": [
    "def labelize_tweets_ug(tweets,label):\n",
    "    result = []\n",
    "    prefix = label\n",
    "    for i, t in zip(tweets.index, tweets):\n",
    "        result.append(LabeledSentence(t.split(), [prefix + '_%s' % i]))\n",
    "    return result"
   ]
  },
  {
   "cell_type": "code",
   "execution_count": 12,
   "metadata": {},
   "outputs": [
    {
     "name": "stderr",
     "output_type": "stream",
     "text": [
      "/Users/computer/miniconda3/lib/python3.7/site-packages/ipykernel_launcher.py:5: DeprecationWarning: Call to deprecated `LabeledSentence` (Class will be removed in 4.0.0, use TaggedDocument instead).\n",
      "  \"\"\"\n"
     ]
    }
   ],
   "source": [
    "all_x = pd.concat([x_train,x_validation,x_test])\n",
    "all_x_w2v = labelize_tweets_ug(all_x, 'all')"
   ]
  },
  {
   "cell_type": "code",
   "execution_count": 13,
   "metadata": {},
   "outputs": [
    {
     "data": {
      "text/plain": [
       "202315"
      ]
     },
     "execution_count": 13,
     "metadata": {},
     "output_type": "execute_result"
    }
   ],
   "source": [
    "len(all_x_w2v)"
   ]
  },
  {
   "cell_type": "markdown",
   "metadata": {},
   "source": [
    "#### Distributed Bag of Words"
   ]
  },
  {
   "cell_type": "code",
   "execution_count": 15,
   "metadata": {},
   "outputs": [
    {
     "name": "stderr",
     "output_type": "stream",
     "text": [
      "/Users/computer/miniconda3/lib/python3.7/site-packages/gensim/models/doc2vec.py:574: UserWarning: The parameter `size` is deprecated, will be removed in 4.0.0, use `vector_size` instead.\n",
      "  warnings.warn(\"The parameter `size` is deprecated, will be removed in 4.0.0, use `vector_size` instead.\")\n",
      "100%|██████████| 202315/202315 [00:00<00:00, 688926.39it/s]\n"
     ]
    }
   ],
   "source": [
    "model_ug_dbow = Doc2Vec(dm=0, size=100, negative=5, min_count=2, workers=1, alpha=0.065, min_alpha=0.065)\n",
    "model_ug_dbow.build_vocab([x for x in tqdm(all_x_w2v)])"
   ]
  },
  {
   "cell_type": "code",
   "execution_count": 16,
   "metadata": {},
   "outputs": [
    {
     "name": "stderr",
     "output_type": "stream",
     "text": [
      "100%|██████████| 202315/202315 [00:00<00:00, 1904217.23it/s]\n",
      "100%|██████████| 202315/202315 [00:00<00:00, 2445455.50it/s]\n",
      "100%|██████████| 202315/202315 [00:00<00:00, 2256260.67it/s]\n",
      "100%|██████████| 202315/202315 [00:00<00:00, 2453338.73it/s]\n",
      "100%|██████████| 202315/202315 [00:00<00:00, 1208440.60it/s]\n",
      "100%|██████████| 202315/202315 [00:00<00:00, 1868353.40it/s]\n",
      "100%|██████████| 202315/202315 [00:00<00:00, 1977029.26it/s]\n",
      "100%|██████████| 202315/202315 [00:00<00:00, 2205551.79it/s]\n",
      "100%|██████████| 202315/202315 [00:00<00:00, 981372.94it/s]\n",
      "100%|██████████| 202315/202315 [00:00<00:00, 2414835.03it/s]\n",
      "100%|██████████| 202315/202315 [00:00<00:00, 2255085.45it/s]\n",
      "100%|██████████| 202315/202315 [00:00<00:00, 2352116.21it/s]\n",
      "100%|██████████| 202315/202315 [00:00<00:00, 2320223.26it/s]\n",
      "100%|██████████| 202315/202315 [00:00<00:00, 2459931.57it/s]\n",
      "100%|██████████| 202315/202315 [00:00<00:00, 2226395.52it/s]\n",
      "100%|██████████| 202315/202315 [00:00<00:00, 2608506.42it/s]\n",
      "100%|██████████| 202315/202315 [00:00<00:00, 1892740.85it/s]\n",
      "100%|██████████| 202315/202315 [00:00<00:00, 2018387.84it/s]\n",
      "100%|██████████| 202315/202315 [00:00<00:00, 1560601.11it/s]\n",
      "100%|██████████| 202315/202315 [00:00<00:00, 2489104.62it/s]\n",
      "100%|██████████| 202315/202315 [00:00<00:00, 2576970.49it/s]\n",
      "100%|██████████| 202315/202315 [00:00<00:00, 803570.66it/s]\n",
      "100%|██████████| 202315/202315 [00:00<00:00, 2204394.43it/s]\n",
      "100%|██████████| 202315/202315 [00:00<00:00, 2043832.44it/s]\n",
      "100%|██████████| 202315/202315 [00:00<00:00, 2250647.46it/s]\n",
      "100%|██████████| 202315/202315 [00:00<00:00, 1703608.12it/s]\n",
      "100%|██████████| 202315/202315 [00:00<00:00, 1861206.59it/s]\n",
      "100%|██████████| 202315/202315 [00:00<00:00, 2066081.38it/s]\n",
      "100%|██████████| 202315/202315 [00:00<00:00, 1957347.03it/s]\n",
      "100%|██████████| 202315/202315 [00:00<00:00, 1140098.31it/s]\n"
     ]
    },
    {
     "name": "stdout",
     "output_type": "stream",
     "text": [
      "CPU times: user 4min 23s, sys: 4.8 s, total: 4min 28s\n",
      "Wall time: 5min 11s\n"
     ]
    }
   ],
   "source": [
    "%%time\n",
    "for epoch in range(30):\n",
    "    model_ug_dbow.train(utils.shuffle([x for x in tqdm(all_x_w2v)]), total_examples=len(all_x_w2v), epochs=1)\n",
    "    model_ug_dbow.alpha -= 0.002\n",
    "    model_ug_dbow.min_alpha = model_ug_dbow.alpha"
   ]
  },
  {
   "cell_type": "code",
   "execution_count": 17,
   "metadata": {},
   "outputs": [],
   "source": [
    "def get_vectors(model, corpus, size):\n",
    "    vecs = np.zeros((len(corpus), size))\n",
    "    n = 0\n",
    "    for i in corpus.index:\n",
    "        prefix = 'all_' + str(i)\n",
    "        vecs[n] = model.docvecs[prefix]\n",
    "        n += 1\n",
    "    return vecs"
   ]
  },
  {
   "cell_type": "code",
   "execution_count": 18,
   "metadata": {},
   "outputs": [],
   "source": [
    "train_vecs_dbow = get_vectors(model_ug_dbow, x_train, 100)\n",
    "validation_vecs_dbow = get_vectors(model_ug_dbow, x_validation, 100)"
   ]
  },
  {
   "cell_type": "code",
   "execution_count": 19,
   "metadata": {},
   "outputs": [
    {
     "name": "stderr",
     "output_type": "stream",
     "text": [
      "/Users/computer/miniconda3/lib/python3.7/site-packages/sklearn/linear_model/logistic.py:432: FutureWarning: Default solver will be changed to 'lbfgs' in 0.22. Specify a solver to silence this warning.\n",
      "  FutureWarning)\n",
      "/Users/computer/miniconda3/lib/python3.7/site-packages/sklearn/linear_model/logistic.py:469: FutureWarning: Default multi_class will be changed to 'auto' in 0.22. Specify the multi_class option to silence this warning.\n",
      "  \"this warning.\", FutureWarning)\n"
     ]
    },
    {
     "data": {
      "text/plain": [
       "LogisticRegression(C=1.0, class_weight=None, dual=False, fit_intercept=True,\n",
       "                   intercept_scaling=1, l1_ratio=None, max_iter=100,\n",
       "                   multi_class='warn', n_jobs=None, penalty='l2',\n",
       "                   random_state=None, solver='warn', tol=0.0001, verbose=0,\n",
       "                   warm_start=False)"
      ]
     },
     "execution_count": 19,
     "metadata": {},
     "output_type": "execute_result"
    }
   ],
   "source": [
    "clf = LogisticRegression()\n",
    "clf.fit(train_vecs_dbow, y_train)"
   ]
  },
  {
   "cell_type": "code",
   "execution_count": 20,
   "metadata": {},
   "outputs": [
    {
     "data": {
      "text/plain": [
       "0.7345526445872467"
      ]
     },
     "execution_count": 20,
     "metadata": {},
     "output_type": "execute_result"
    }
   ],
   "source": [
    "clf.score(validation_vecs_dbow, y_validation)"
   ]
  },
  {
   "cell_type": "code",
   "execution_count": 21,
   "metadata": {},
   "outputs": [],
   "source": [
    "model_ug_dbow.save('d2v_model_ug_dbow.doc2vec')\n",
    "model_ug_dbow = Doc2Vec.load('d2v_model_ug_dbow.doc2vec')"
   ]
  },
  {
   "cell_type": "code",
   "execution_count": 22,
   "metadata": {},
   "outputs": [],
   "source": [
    "model_ug_dbow.delete_temporary_training_data(keep_doctags_vectors=True, keep_inference=True)"
   ]
  },
  {
   "cell_type": "markdown",
   "metadata": {},
   "source": [
    "#### Distributed memory - concatenated"
   ]
  },
  {
   "cell_type": "code",
   "execution_count": 24,
   "metadata": {},
   "outputs": [
    {
     "name": "stderr",
     "output_type": "stream",
     "text": [
      "/Users/computer/miniconda3/lib/python3.7/site-packages/gensim/models/doc2vec.py:574: UserWarning: The parameter `size` is deprecated, will be removed in 4.0.0, use `vector_size` instead.\n",
      "  warnings.warn(\"The parameter `size` is deprecated, will be removed in 4.0.0, use `vector_size` instead.\")\n",
      "100%|██████████| 202315/202315 [00:00<00:00, 1659695.18it/s]\n"
     ]
    }
   ],
   "source": [
    "cores = multiprocessing.cpu_count()\n",
    "model_ug_dmc = Doc2Vec(dm=1, dm_concat=1, size=100, window=2, negative=5, min_count=2, workers=cores, alpha=0.065, min_alpha=0.065)\n",
    "model_ug_dmc.build_vocab([x for x in tqdm(all_x_w2v)])"
   ]
  },
  {
   "cell_type": "code",
   "execution_count": 25,
   "metadata": {},
   "outputs": [
    {
     "name": "stderr",
     "output_type": "stream",
     "text": [
      "100%|██████████| 202315/202315 [00:00<00:00, 1165449.28it/s]\n",
      "100%|██████████| 202315/202315 [00:00<00:00, 2462422.85it/s]\n",
      "100%|██████████| 202315/202315 [00:00<00:00, 1708282.65it/s]\n",
      "100%|██████████| 202315/202315 [00:00<00:00, 2101405.39it/s]\n",
      "100%|██████████| 202315/202315 [00:00<00:00, 2384663.59it/s]\n",
      "100%|██████████| 202315/202315 [00:00<00:00, 1283203.03it/s]\n",
      "100%|██████████| 202315/202315 [00:00<00:00, 2321702.39it/s]\n",
      "100%|██████████| 202315/202315 [00:00<00:00, 2246417.19it/s]\n",
      "100%|██████████| 202315/202315 [00:00<00:00, 2207956.34it/s]\n",
      "100%|██████████| 202315/202315 [00:00<00:00, 2408399.36it/s]\n",
      "100%|██████████| 202315/202315 [00:00<00:00, 2198426.42it/s]\n",
      "100%|██████████| 202315/202315 [00:00<00:00, 2320953.07it/s]\n",
      "100%|██████████| 202315/202315 [00:00<00:00, 2465635.40it/s]\n",
      "100%|██████████| 202315/202315 [00:00<00:00, 399427.72it/s]\n",
      "100%|██████████| 202315/202315 [00:00<00:00, 1412596.30it/s]\n",
      "100%|██████████| 202315/202315 [00:00<00:00, 2163628.10it/s]\n",
      "100%|██████████| 202315/202315 [00:00<00:00, 2468935.36it/s]\n",
      "100%|██████████| 202315/202315 [00:00<00:00, 2508589.73it/s]\n",
      "100%|██████████| 202315/202315 [00:00<00:00, 1967243.80it/s]\n",
      "100%|██████████| 202315/202315 [00:00<00:00, 1728302.52it/s]\n",
      "100%|██████████| 202315/202315 [00:00<00:00, 2459567.93it/s]\n",
      "100%|██████████| 202315/202315 [00:00<00:00, 2289776.64it/s]\n",
      "100%|██████████| 202315/202315 [00:00<00:00, 1841556.05it/s]\n",
      "100%|██████████| 202315/202315 [00:00<00:00, 2065427.63it/s]\n",
      "100%|██████████| 202315/202315 [00:00<00:00, 2466352.03it/s]\n",
      "100%|██████████| 202315/202315 [00:00<00:00, 677100.90it/s]\n",
      "100%|██████████| 202315/202315 [00:00<00:00, 827420.91it/s]\n",
      "100%|██████████| 202315/202315 [00:00<00:00, 2145005.51it/s]\n",
      "100%|██████████| 202315/202315 [00:00<00:00, 2251973.43it/s]\n",
      "100%|██████████| 202315/202315 [00:00<00:00, 236296.33it/s]\n"
     ]
    },
    {
     "name": "stdout",
     "output_type": "stream",
     "text": [
      "CPU times: user 8min 8s, sys: 1min 4s, total: 9min 13s\n",
      "Wall time: 7min 13s\n"
     ]
    }
   ],
   "source": [
    "%%time\n",
    "for epoch in range(30):\n",
    "    model_ug_dmc.train(utils.shuffle([x for x in tqdm(all_x_w2v)]), total_examples=len(all_x_w2v), epochs=1)\n",
    "    model_ug_dmc.alpha -= 0.002\n",
    "    model_ug_dmc.min_alpha = model_ug_dmc.alpha"
   ]
  },
  {
   "cell_type": "code",
   "execution_count": 27,
   "metadata": {},
   "outputs": [],
   "source": [
    "#model_ug_dmc = Doc2Vec.load('d2v_model_ug_dmc.doc2vec')"
   ]
  },
  {
   "cell_type": "code",
   "execution_count": 28,
   "metadata": {},
   "outputs": [
    {
     "name": "stderr",
     "output_type": "stream",
     "text": [
      "/Users/computer/miniconda3/lib/python3.7/site-packages/ipykernel_launcher.py:1: DeprecationWarning: Call to deprecated `most_similar` (Method will be removed in 4.0.0, use self.wv.most_similar() instead).\n",
      "  \"\"\"Entry point for launching an IPython kernel.\n"
     ]
    },
    {
     "data": {
      "text/plain": [
       "[('bad', 0.6211588382720947),\n",
       " ('surcharge', 0.5239689350128174),\n",
       " ('sad', 0.5197510719299316),\n",
       " ('interesting', 0.5149270296096802),\n",
       " ('predictable', 0.5012583136558533),\n",
       " ('excellent', 0.5000801682472229),\n",
       " ('awesome', 0.4975941777229309),\n",
       " ('huuuuge', 0.4973853528499603),\n",
       " ('great', 0.4973595142364502),\n",
       " ('tricky', 0.49431976675987244)]"
      ]
     },
     "execution_count": 28,
     "metadata": {},
     "output_type": "execute_result"
    }
   ],
   "source": [
    "model_ug_dmc.most_similar('good')\n"
   ]
  },
  {
   "cell_type": "code",
   "execution_count": 29,
   "metadata": {},
   "outputs": [
    {
     "name": "stderr",
     "output_type": "stream",
     "text": [
      "/Users/computer/miniconda3/lib/python3.7/site-packages/ipykernel_launcher.py:1: DeprecationWarning: Call to deprecated `most_similar` (Method will be removed in 4.0.0, use self.wv.most_similar() instead).\n",
      "  \"\"\"Entry point for launching an IPython kernel.\n"
     ]
    },
    {
     "data": {
      "text/plain": [
       "[('blessed', 0.5467841625213623),\n",
       " ('omgtr', 0.5459575057029724),\n",
       " ('thankful', 0.5232704877853394),\n",
       " ('proud', 0.5022544860839844),\n",
       " ('uncomfortable', 0.49687355756759644),\n",
       " ('excited', 0.4927910566329956),\n",
       " ('stormy', 0.47982290387153625),\n",
       " ('debuted', 0.47648757696151733),\n",
       " ('ivotedfortrump', 0.47207677364349365),\n",
       " ('grandioses', 0.47205495834350586)]"
      ]
     },
     "execution_count": 29,
     "metadata": {},
     "output_type": "execute_result"
    }
   ],
   "source": [
    "model_ug_dmc.most_similar('happy')"
   ]
  },
  {
   "cell_type": "code",
   "execution_count": 30,
   "metadata": {},
   "outputs": [
    {
     "name": "stderr",
     "output_type": "stream",
     "text": [
      "/Users/computer/miniconda3/lib/python3.7/site-packages/ipykernel_launcher.py:1: DeprecationWarning: Call to deprecated `most_similar` (Method will be removed in 4.0.0, use self.wv.most_similar() instead).\n",
      "  \"\"\"Entry point for launching an IPython kernel.\n"
     ]
    },
    {
     "data": {
      "text/plain": [
       "[('twitter', 0.5870563983917236),\n",
       " ('reddit', 0.574428379535675),\n",
       " ('youtube', 0.5729553699493408),\n",
       " ('instagram', 0.5629979372024536),\n",
       " ('fb', 0.5402119755744934),\n",
       " ('tvone', 0.5367606282234192),\n",
       " ('biography', 0.5334429740905762),\n",
       " ('raskass', 0.5183946490287781),\n",
       " ('nanotechnology', 0.5081194043159485),\n",
       " ('whatsapp', 0.5031887888908386)]"
      ]
     },
     "execution_count": 30,
     "metadata": {},
     "output_type": "execute_result"
    }
   ],
   "source": [
    "model_ug_dmc.most_similar('facebook')"
   ]
  },
  {
   "cell_type": "code",
   "execution_count": 31,
   "metadata": {},
   "outputs": [
    {
     "name": "stderr",
     "output_type": "stream",
     "text": [
      "/Users/computer/miniconda3/lib/python3.7/site-packages/ipykernel_launcher.py:1: DeprecationWarning: Call to deprecated `most_similar` (Method will be removed in 4.0.0, use self.wv.most_similar() instead).\n",
      "  \"\"\"Entry point for launching an IPython kernel.\n"
     ]
    },
    {
     "data": {
      "text/plain": [
       "[('lyincrookedhillary', 0.604820966720581),\n",
       " ('islamaphobia', 0.5932666659355164),\n",
       " ('detractors', 0.588485598564148),\n",
       " ('plagio', 0.5837088227272034),\n",
       " ('tryi', 0.581690788269043),\n",
       " ('trumps', 0.5771034955978394),\n",
       " ('rumsfeld', 0.5755376815795898),\n",
       " ('realdonaldt', 0.5662996768951416),\n",
       " ('juanwilliams', 0.5599595308303833),\n",
       " ('moretti', 0.5520181059837341)]"
      ]
     },
     "execution_count": 31,
     "metadata": {},
     "output_type": "execute_result"
    }
   ],
   "source": [
    "model_ug_dmc.most_similar('trump')"
   ]
  },
  {
   "cell_type": "code",
   "execution_count": 32,
   "metadata": {},
   "outputs": [
    {
     "name": "stderr",
     "output_type": "stream",
     "text": [
      "/Users/computer/miniconda3/lib/python3.7/site-packages/ipykernel_launcher.py:1: DeprecationWarning: Call to deprecated `most_similar` (Method will be removed in 4.0.0, use self.wv.most_similar() instead).\n",
      "  \"\"\"Entry point for launching an IPython kernel.\n"
     ]
    },
    {
     "data": {
      "text/plain": [
       "[('tougher', 0.4775066375732422),\n",
       " ('prettier', 0.4615219533443451),\n",
       " ('scarier', 0.4473501443862915),\n",
       " ('lice', 0.4442978501319885),\n",
       " ('humane', 0.44116953015327454),\n",
       " ('warmer', 0.43999165296554565),\n",
       " ('stronger', 0.4343826472759247),\n",
       " ('participating', 0.4324437081813812),\n",
       " ('pain', 0.42833268642425537),\n",
       " ('hotter', 0.42792409658432007)]"
      ]
     },
     "execution_count": 32,
     "metadata": {},
     "output_type": "execute_result"
    }
   ],
   "source": [
    "model_ug_dmc.most_similar(positive=['bigger', 'small'], negative=['big'])"
   ]
  },
  {
   "cell_type": "code",
   "execution_count": 33,
   "metadata": {},
   "outputs": [],
   "source": [
    "train_vecs_dmc = get_vectors(model_ug_dmc, x_train, 100)\n",
    "validation_vecs_dmc = get_vectors(model_ug_dmc, x_validation, 100)"
   ]
  },
  {
   "cell_type": "code",
   "execution_count": 34,
   "metadata": {},
   "outputs": [
    {
     "name": "stderr",
     "output_type": "stream",
     "text": [
      "/Users/computer/miniconda3/lib/python3.7/site-packages/sklearn/linear_model/logistic.py:432: FutureWarning: Default solver will be changed to 'lbfgs' in 0.22. Specify a solver to silence this warning.\n",
      "  FutureWarning)\n",
      "/Users/computer/miniconda3/lib/python3.7/site-packages/sklearn/linear_model/logistic.py:469: FutureWarning: Default multi_class will be changed to 'auto' in 0.22. Specify the multi_class option to silence this warning.\n",
      "  \"this warning.\", FutureWarning)\n"
     ]
    },
    {
     "data": {
      "text/plain": [
       "LogisticRegression(C=1.0, class_weight=None, dual=False, fit_intercept=True,\n",
       "                   intercept_scaling=1, l1_ratio=None, max_iter=100,\n",
       "                   multi_class='warn', n_jobs=None, penalty='l2',\n",
       "                   random_state=None, solver='warn', tol=0.0001, verbose=0,\n",
       "                   warm_start=False)"
      ]
     },
     "execution_count": 34,
     "metadata": {},
     "output_type": "execute_result"
    }
   ],
   "source": [
    "clf = LogisticRegression()\n",
    "clf.fit(train_vecs_dmc, y_train)"
   ]
  },
  {
   "cell_type": "code",
   "execution_count": 35,
   "metadata": {},
   "outputs": [
    {
     "data": {
      "text/plain": [
       "0.5610479485912012"
      ]
     },
     "execution_count": 35,
     "metadata": {},
     "output_type": "execute_result"
    }
   ],
   "source": [
    "clf.score(validation_vecs_dmc, y_validation)"
   ]
  },
  {
   "cell_type": "code",
   "execution_count": 36,
   "metadata": {},
   "outputs": [],
   "source": [
    "model_ug_dmc.save('d2v_model_ug_dmc.doc2vec')\n",
    "model_ug_dmc = Doc2Vec.load('d2v_model_ug_dmc.doc2vec')\n",
    "model_ug_dmc.delete_temporary_training_data(keep_doctags_vectors=True, keep_inference=True)"
   ]
  },
  {
   "cell_type": "markdown",
   "metadata": {},
   "source": [
    "#### Distributed memory (mean)"
   ]
  },
  {
   "cell_type": "code",
   "execution_count": null,
   "metadata": {},
   "outputs": [],
   "source": []
  }
 ],
 "metadata": {
  "kernelspec": {
   "display_name": "Python 3",
   "language": "python",
   "name": "python3"
  },
  "language_info": {
   "codemirror_mode": {
    "name": "ipython",
    "version": 3
   },
   "file_extension": ".py",
   "mimetype": "text/x-python",
   "name": "python",
   "nbconvert_exporter": "python",
   "pygments_lexer": "ipython3",
   "version": "3.7.3"
  }
 },
 "nbformat": 4,
 "nbformat_minor": 2
}
