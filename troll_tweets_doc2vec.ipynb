{
 "cells": [
  {
   "cell_type": "code",
   "execution_count": 1,
   "metadata": {},
   "outputs": [],
   "source": [
    "import pandas as pd  \n",
    "import numpy as np\n",
    "import matplotlib.pyplot as plt\n",
    "plt.style.use('fivethirtyeight')\n",
    "\n",
    "%matplotlib inline\n",
    "%config InlineBackend.figure_format = 'retina'"
   ]
  },
  {
   "cell_type": "code",
   "execution_count": 2,
   "metadata": {},
   "outputs": [
    {
     "data": {
      "text/html": [
       "<div>\n",
       "<style scoped>\n",
       "    .dataframe tbody tr th:only-of-type {\n",
       "        vertical-align: middle;\n",
       "    }\n",
       "\n",
       "    .dataframe tbody tr th {\n",
       "        vertical-align: top;\n",
       "    }\n",
       "\n",
       "    .dataframe thead th {\n",
       "        text-align: right;\n",
       "    }\n",
       "</style>\n",
       "<table border=\"1\" class=\"dataframe\">\n",
       "  <thead>\n",
       "    <tr style=\"text-align: right;\">\n",
       "      <th></th>\n",
       "      <th>text</th>\n",
       "      <th>account_type</th>\n",
       "    </tr>\n",
       "  </thead>\n",
       "  <tbody>\n",
       "    <tr>\n",
       "      <td>0</td>\n",
       "      <td>we have sitting democrat us senator on trial f...</td>\n",
       "      <td>Right</td>\n",
       "    </tr>\n",
       "    <tr>\n",
       "      <td>1</td>\n",
       "      <td>marshawn lynch arrives to game in anti trump s...</td>\n",
       "      <td>Right</td>\n",
       "    </tr>\n",
       "    <tr>\n",
       "      <td>2</td>\n",
       "      <td>daughter of fallen navy sailor delivers powerf...</td>\n",
       "      <td>Right</td>\n",
       "    </tr>\n",
       "    <tr>\n",
       "      <td>3</td>\n",
       "      <td>just in president trump dedicates presidents c...</td>\n",
       "      <td>Right</td>\n",
       "    </tr>\n",
       "    <tr>\n",
       "      <td>4</td>\n",
       "      <td>respecting our national anthem standforouranthem</td>\n",
       "      <td>Right</td>\n",
       "    </tr>\n",
       "  </tbody>\n",
       "</table>\n",
       "</div>"
      ],
      "text/plain": [
       "                                                text account_type\n",
       "0  we have sitting democrat us senator on trial f...        Right\n",
       "1  marshawn lynch arrives to game in anti trump s...        Right\n",
       "2  daughter of fallen navy sailor delivers powerf...        Right\n",
       "3  just in president trump dedicates presidents c...        Right\n",
       "4   respecting our national anthem standforouranthem        Right"
      ]
     },
     "execution_count": 2,
     "metadata": {},
     "output_type": "execute_result"
    }
   ],
   "source": [
    "csv = 'clean_tweet.csv'\n",
    "my_df = pd.read_csv(csv,index_col=0)\n",
    "my_df.head()"
   ]
  },
  {
   "cell_type": "code",
   "execution_count": 3,
   "metadata": {},
   "outputs": [
    {
     "name": "stdout",
     "output_type": "stream",
     "text": [
      "<class 'pandas.core.frame.DataFrame'>\n",
      "RangeIndex: 202315 entries, 0 to 202314\n",
      "Data columns (total 2 columns):\n",
      "text            202315 non-null object\n",
      "account_type    202315 non-null object\n",
      "dtypes: object(2)\n",
      "memory usage: 3.1+ MB\n"
     ]
    }
   ],
   "source": [
    "my_df.dropna(inplace=True)\n",
    "my_df.reset_index(drop=True,inplace=True)\n",
    "my_df.info()"
   ]
  },
  {
   "cell_type": "code",
   "execution_count": 4,
   "metadata": {},
   "outputs": [],
   "source": [
    "x = my_df.text\n",
    "y = my_df.account_type"
   ]
  },
  {
   "cell_type": "code",
   "execution_count": 5,
   "metadata": {},
   "outputs": [],
   "source": [
    "#from sklearn.cross_validation import train_test_split\n",
    "from sklearn.model_selection import train_test_split\n",
    "SEED = 2000\n",
    "x_train, x_validation_and_test, y_train, y_validation_and_test = train_test_split(x, y, test_size=.02, random_state=SEED)\n",
    "x_validation, x_test, y_validation, y_test = train_test_split(x_validation_and_test, y_validation_and_test, test_size=.5, random_state=SEED)"
   ]
  },
  {
   "cell_type": "code",
   "execution_count": 6,
   "metadata": {},
   "outputs": [],
   "source": [
    "from sklearn.linear_model import LogisticRegression"
   ]
  },
  {
   "cell_type": "code",
   "execution_count": 7,
   "metadata": {},
   "outputs": [],
   "source": [
    "from tqdm import tqdm\n",
    "#tqdm.pandas(desc=\"progress-bar\")\n",
    "from gensim.models import Doc2Vec\n",
    "from gensim.models.doc2vec import LabeledSentence\n",
    "import multiprocessing\n",
    "from sklearn import utils"
   ]
  },
  {
   "cell_type": "code",
   "execution_count": 8,
   "metadata": {},
   "outputs": [],
   "source": [
    "def labelize_tweets_ug(tweets,label):\n",
    "    result = []\n",
    "    prefix = label\n",
    "    for i, t in zip(tweets.index, tweets):\n",
    "        result.append(LabeledSentence(t.split(), [prefix + '_%s' % i]))\n",
    "    return result"
   ]
  },
  {
   "cell_type": "code",
   "execution_count": 9,
   "metadata": {},
   "outputs": [
    {
     "name": "stderr",
     "output_type": "stream",
     "text": [
      "/Users/computer/miniconda3/lib/python3.7/site-packages/ipykernel_launcher.py:5: DeprecationWarning: Call to deprecated `LabeledSentence` (Class will be removed in 4.0.0, use TaggedDocument instead).\n",
      "  \"\"\"\n"
     ]
    }
   ],
   "source": [
    "all_x = pd.concat([x_train,x_validation,x_test])\n",
    "all_x_w2v = labelize_tweets_ug(all_x, 'all')"
   ]
  },
  {
   "cell_type": "code",
   "execution_count": 10,
   "metadata": {},
   "outputs": [
    {
     "data": {
      "text/plain": [
       "202315"
      ]
     },
     "execution_count": 10,
     "metadata": {},
     "output_type": "execute_result"
    }
   ],
   "source": [
    "len(all_x_w2v)"
   ]
  },
  {
   "cell_type": "markdown",
   "metadata": {},
   "source": [
    "#### Distributed Bag of Words"
   ]
  },
  {
   "cell_type": "code",
   "execution_count": 11,
   "metadata": {},
   "outputs": [
    {
     "name": "stderr",
     "output_type": "stream",
     "text": [
      "/Users/computer/miniconda3/lib/python3.7/site-packages/gensim/models/doc2vec.py:574: UserWarning: The parameter `size` is deprecated, will be removed in 4.0.0, use `vector_size` instead.\n",
      "  warnings.warn(\"The parameter `size` is deprecated, will be removed in 4.0.0, use `vector_size` instead.\")\n",
      "100%|██████████| 202315/202315 [00:00<00:00, 1742083.50it/s]\n"
     ]
    }
   ],
   "source": [
    "model_ug_dbow = Doc2Vec(dm=0, size=100, negative=5, min_count=2, workers=1, alpha=0.065, min_alpha=0.065)\n",
    "model_ug_dbow.build_vocab([x for x in tqdm(all_x_w2v)])"
   ]
  },
  {
   "cell_type": "code",
   "execution_count": 12,
   "metadata": {},
   "outputs": [
    {
     "name": "stderr",
     "output_type": "stream",
     "text": [
      "100%|██████████| 202315/202315 [00:00<00:00, 1982586.03it/s]\n",
      "100%|██████████| 202315/202315 [00:00<00:00, 2106308.51it/s]\n",
      "100%|██████████| 202315/202315 [00:00<00:00, 2487280.64it/s]\n",
      "100%|██████████| 202315/202315 [00:00<00:00, 1877563.85it/s]\n",
      "100%|██████████| 202315/202315 [00:00<00:00, 2219680.70it/s]\n",
      "100%|██████████| 202315/202315 [00:00<00:00, 2470329.73it/s]\n",
      "100%|██████████| 202315/202315 [00:00<00:00, 2447557.45it/s]\n",
      "100%|██████████| 202315/202315 [00:00<00:00, 2434014.90it/s]\n",
      "100%|██████████| 202315/202315 [00:00<00:00, 1654304.66it/s]\n",
      "100%|██████████| 202315/202315 [00:00<00:00, 2428254.73it/s]\n",
      "100%|██████████| 202315/202315 [00:00<00:00, 2307610.30it/s]\n",
      "100%|██████████| 202315/202315 [00:00<00:00, 2249418.44it/s]\n",
      "100%|██████████| 202315/202315 [00:00<00:00, 2423974.97it/s]\n",
      "100%|██████████| 202315/202315 [00:00<00:00, 2230128.58it/s]\n",
      "100%|██████████| 202315/202315 [00:00<00:00, 2220825.11it/s]\n",
      "100%|██████████| 202315/202315 [00:00<00:00, 2041693.31it/s]\n",
      "100%|██████████| 202315/202315 [00:00<00:00, 2177508.26it/s]\n",
      "100%|██████████| 202315/202315 [00:00<00:00, 2130930.48it/s]\n",
      "100%|██████████| 202315/202315 [00:00<00:00, 1716367.98it/s]\n",
      "100%|██████████| 202315/202315 [00:00<00:00, 2277705.61it/s]\n",
      "100%|██████████| 202315/202315 [00:00<00:00, 1768378.59it/s]\n",
      "100%|██████████| 202315/202315 [00:00<00:00, 2296786.16it/s]\n",
      "100%|██████████| 202315/202315 [00:00<00:00, 1770359.77it/s]\n",
      "100%|██████████| 202315/202315 [00:00<00:00, 2114433.05it/s]\n",
      "100%|██████████| 202315/202315 [00:00<00:00, 2286254.02it/s]\n",
      "100%|██████████| 202315/202315 [00:00<00:00, 2030112.09it/s]\n",
      "100%|██████████| 202315/202315 [00:00<00:00, 1843664.63it/s]\n",
      "100%|██████████| 202315/202315 [00:00<00:00, 2287961.53it/s]\n",
      "100%|██████████| 202315/202315 [00:00<00:00, 1249044.14it/s]\n",
      "100%|██████████| 202315/202315 [00:00<00:00, 2346444.72it/s]\n"
     ]
    },
    {
     "name": "stdout",
     "output_type": "stream",
     "text": [
      "CPU times: user 4min 15s, sys: 3.25 s, total: 4min 18s\n",
      "Wall time: 4min 33s\n"
     ]
    }
   ],
   "source": [
    "%%time\n",
    "for epoch in range(30):\n",
    "    model_ug_dbow.train(utils.shuffle([x for x in tqdm(all_x_w2v)]), total_examples=len(all_x_w2v), epochs=1)\n",
    "    model_ug_dbow.alpha -= 0.002\n",
    "    model_ug_dbow.min_alpha = model_ug_dbow.alpha"
   ]
  },
  {
   "cell_type": "code",
   "execution_count": 13,
   "metadata": {},
   "outputs": [],
   "source": [
    "def get_vectors(model, corpus, size):\n",
    "    vecs = np.zeros((len(corpus), size))\n",
    "    n = 0\n",
    "    for i in corpus.index:\n",
    "        prefix = 'all_' + str(i)\n",
    "        vecs[n] = model.docvecs[prefix]\n",
    "        n += 1\n",
    "    return vecs"
   ]
  },
  {
   "cell_type": "code",
   "execution_count": 14,
   "metadata": {},
   "outputs": [],
   "source": [
    "train_vecs_dbow = get_vectors(model_ug_dbow, x_train, 100)\n",
    "validation_vecs_dbow = get_vectors(model_ug_dbow, x_validation, 100)"
   ]
  },
  {
   "cell_type": "code",
   "execution_count": 15,
   "metadata": {},
   "outputs": [
    {
     "name": "stderr",
     "output_type": "stream",
     "text": [
      "/Users/computer/miniconda3/lib/python3.7/site-packages/sklearn/linear_model/logistic.py:432: FutureWarning: Default solver will be changed to 'lbfgs' in 0.22. Specify a solver to silence this warning.\n",
      "  FutureWarning)\n",
      "/Users/computer/miniconda3/lib/python3.7/site-packages/sklearn/linear_model/logistic.py:469: FutureWarning: Default multi_class will be changed to 'auto' in 0.22. Specify the multi_class option to silence this warning.\n",
      "  \"this warning.\", FutureWarning)\n"
     ]
    },
    {
     "data": {
      "text/plain": [
       "LogisticRegression(C=1.0, class_weight=None, dual=False, fit_intercept=True,\n",
       "                   intercept_scaling=1, l1_ratio=None, max_iter=100,\n",
       "                   multi_class='warn', n_jobs=None, penalty='l2',\n",
       "                   random_state=None, solver='warn', tol=0.0001, verbose=0,\n",
       "                   warm_start=False)"
      ]
     },
     "execution_count": 15,
     "metadata": {},
     "output_type": "execute_result"
    }
   ],
   "source": [
    "clf = LogisticRegression()\n",
    "clf.fit(train_vecs_dbow, y_train)"
   ]
  },
  {
   "cell_type": "code",
   "execution_count": 16,
   "metadata": {},
   "outputs": [
    {
     "data": {
      "text/plain": [
       "0.7281265447355413"
      ]
     },
     "execution_count": 16,
     "metadata": {},
     "output_type": "execute_result"
    }
   ],
   "source": [
    "clf.score(validation_vecs_dbow, y_validation)"
   ]
  },
  {
   "cell_type": "code",
   "execution_count": 17,
   "metadata": {},
   "outputs": [],
   "source": [
    "model_ug_dbow.save('d2v_model_ug_dbow.doc2vec')\n",
    "model_ug_dbow = Doc2Vec.load('d2v_model_ug_dbow.doc2vec')"
   ]
  },
  {
   "cell_type": "code",
   "execution_count": 18,
   "metadata": {},
   "outputs": [],
   "source": [
    "model_ug_dbow.delete_temporary_training_data(keep_doctags_vectors=True, keep_inference=True)"
   ]
  },
  {
   "cell_type": "markdown",
   "metadata": {},
   "source": [
    "#### Distributed memory - concatenated"
   ]
  },
  {
   "cell_type": "code",
   "execution_count": 19,
   "metadata": {},
   "outputs": [
    {
     "name": "stderr",
     "output_type": "stream",
     "text": [
      "/Users/computer/miniconda3/lib/python3.7/site-packages/gensim/models/doc2vec.py:574: UserWarning: The parameter `size` is deprecated, will be removed in 4.0.0, use `vector_size` instead.\n",
      "  warnings.warn(\"The parameter `size` is deprecated, will be removed in 4.0.0, use `vector_size` instead.\")\n",
      "100%|██████████| 202315/202315 [00:00<00:00, 1595735.43it/s]\n"
     ]
    }
   ],
   "source": [
    "cores = multiprocessing.cpu_count()\n",
    "model_ug_dmc = Doc2Vec(dm=1, dm_concat=1, size=100, window=2, negative=5, min_count=2, workers=cores, alpha=0.065, min_alpha=0.065)\n",
    "model_ug_dmc.build_vocab([x for x in tqdm(all_x_w2v)])"
   ]
  },
  {
   "cell_type": "code",
   "execution_count": 20,
   "metadata": {},
   "outputs": [
    {
     "name": "stderr",
     "output_type": "stream",
     "text": [
      "100%|██████████| 202315/202315 [00:00<00:00, 1949401.59it/s]\n",
      "100%|██████████| 202315/202315 [00:00<00:00, 2287443.46it/s]\n",
      "100%|██████████| 202315/202315 [00:00<00:00, 2253755.81it/s]\n",
      "100%|██████████| 202315/202315 [00:00<00:00, 2370057.41it/s]\n",
      "100%|██████████| 202315/202315 [00:00<00:00, 2402167.90it/s]\n",
      "100%|██████████| 202315/202315 [00:00<00:00, 2502102.69it/s]\n",
      "100%|██████████| 202315/202315 [00:00<00:00, 2201586.29it/s]\n",
      "100%|██████████| 202315/202315 [00:00<00:00, 2521777.65it/s]\n",
      "100%|██████████| 202315/202315 [00:00<00:00, 1256021.46it/s]\n",
      "100%|██████████| 202315/202315 [00:00<00:00, 2059457.46it/s]\n",
      "100%|██████████| 202315/202315 [00:00<00:00, 2152426.86it/s]\n",
      "100%|██████████| 202315/202315 [00:00<00:00, 1915262.85it/s]\n",
      "100%|██████████| 202315/202315 [00:00<00:00, 2462601.50it/s]\n",
      "100%|██████████| 202315/202315 [00:00<00:00, 2397125.99it/s]\n",
      "100%|██████████| 202315/202315 [00:00<00:00, 2023267.70it/s]\n",
      "100%|██████████| 202315/202315 [00:00<00:00, 1813084.35it/s]\n",
      "100%|██████████| 202315/202315 [00:00<00:00, 2405736.47it/s]\n",
      "100%|██████████| 202315/202315 [00:00<00:00, 2417545.66it/s]\n",
      "100%|██████████| 202315/202315 [00:00<00:00, 2418158.80it/s]\n",
      "100%|██████████| 202315/202315 [00:00<00:00, 2430939.88it/s]\n",
      "100%|██████████| 202315/202315 [00:00<00:00, 1992033.97it/s]\n",
      "100%|██████████| 202315/202315 [00:00<00:00, 1821999.19it/s]\n",
      "100%|██████████| 202315/202315 [00:00<00:00, 2525192.13it/s]\n",
      "100%|██████████| 202315/202315 [00:00<00:00, 1610594.33it/s]\n",
      "100%|██████████| 202315/202315 [00:00<00:00, 2456982.82it/s]\n",
      "100%|██████████| 202315/202315 [00:00<00:00, 2152448.70it/s]\n",
      "100%|██████████| 202315/202315 [00:00<00:00, 2435328.16it/s]\n",
      "100%|██████████| 202315/202315 [00:00<00:00, 2350174.94it/s]\n",
      "100%|██████████| 202315/202315 [00:00<00:00, 2487309.81it/s]\n",
      "100%|██████████| 202315/202315 [00:00<00:00, 2507025.92it/s]\n"
     ]
    },
    {
     "name": "stdout",
     "output_type": "stream",
     "text": [
      "CPU times: user 7min 39s, sys: 51.8 s, total: 8min 31s\n",
      "Wall time: 5min 4s\n"
     ]
    }
   ],
   "source": [
    "%%time\n",
    "for epoch in range(30):\n",
    "    model_ug_dmc.train(utils.shuffle([x for x in tqdm(all_x_w2v)]), total_examples=len(all_x_w2v), epochs=1)\n",
    "    model_ug_dmc.alpha -= 0.002\n",
    "    model_ug_dmc.min_alpha = model_ug_dmc.alpha"
   ]
  },
  {
   "cell_type": "code",
   "execution_count": 22,
   "metadata": {},
   "outputs": [],
   "source": [
    "model_ug_dmc = Doc2Vec.load('d2v_model_ug_dmc.doc2vec')"
   ]
  },
  {
   "cell_type": "code",
   "execution_count": 23,
   "metadata": {},
   "outputs": [
    {
     "data": {
      "text/plain": [
       "[('marlenepinnoc', 0.600085973739624),\n",
       " ('blackpeoplebelike', 0.5984916687011719),\n",
       " ('copshootings', 0.5759905576705933),\n",
       " ('bayview', 0.5664960145950317),\n",
       " ('freefella', 0.5603440403938293),\n",
       " ('blackwomenaregorgeous', 0.559554934501648),\n",
       " ('policebrutality', 0.5565026998519897),\n",
       " ('survivingcompton', 0.5528383255004883),\n",
       " ('rosaparks', 0.5517685413360596),\n",
       " ('blacktwitter', 0.5496900081634521)]"
      ]
     },
     "execution_count": 23,
     "metadata": {},
     "output_type": "execute_result"
    }
   ],
   "source": [
    "model_ug_dmc.wv.most_similar('blacklivesmatter')\n"
   ]
  },
  {
   "cell_type": "code",
   "execution_count": 24,
   "metadata": {},
   "outputs": [
    {
     "data": {
      "text/plain": [
       "[('bepositive', 0.6405110359191895),\n",
       " ('detractors', 0.6370944380760193),\n",
       " ('austerity', 0.5803809762001038),\n",
       " ('trumps', 0.5713320970535278),\n",
       " ('rainews', 0.5609710216522217),\n",
       " ('whacko', 0.5527499318122864),\n",
       " ('bure', 0.5491324663162231),\n",
       " ('kyei', 0.5484522581100464),\n",
       " ('realdonaldt', 0.547576367855072),\n",
       " ('gagop', 0.5339516997337341)]"
      ]
     },
     "execution_count": 24,
     "metadata": {},
     "output_type": "execute_result"
    }
   ],
   "source": [
    "model_ug_dmc.wv.most_similar('trump')"
   ]
  },
  {
   "cell_type": "code",
   "execution_count": 25,
   "metadata": {},
   "outputs": [
    {
     "data": {
      "text/plain": [
       "[('obam', 0.6191667318344116),\n",
       " ('crookedhillary', 0.5869184732437134),\n",
       " ('jeannemfr', 0.5861913561820984),\n",
       " ('hrc', 0.5811194181442261),\n",
       " ('jeanettejing', 0.5670366883277893),\n",
       " ('killary', 0.5629463791847229),\n",
       " ('firesign', 0.5525758266448975),\n",
       " ('hillaryclinton', 0.5461773872375488),\n",
       " ('dorian', 0.5415672063827515),\n",
       " ('votato', 0.5299184322357178)]"
      ]
     },
     "execution_count": 25,
     "metadata": {},
     "output_type": "execute_result"
    }
   ],
   "source": [
    "model_ug_dmc.wv.most_similar('hillary')"
   ]
  },
  {
   "cell_type": "code",
   "execution_count": 26,
   "metadata": {},
   "outputs": [
    {
     "data": {
      "text/plain": [
       "[('bepositive', 0.6405110359191895),\n",
       " ('detractors', 0.6370944380760193),\n",
       " ('austerity', 0.5803809762001038),\n",
       " ('trumps', 0.5713320970535278),\n",
       " ('rainews', 0.5609710216522217),\n",
       " ('whacko', 0.5527499318122864),\n",
       " ('bure', 0.5491324663162231),\n",
       " ('kyei', 0.5484522581100464),\n",
       " ('realdonaldt', 0.547576367855072),\n",
       " ('gagop', 0.5339516997337341)]"
      ]
     },
     "execution_count": 26,
     "metadata": {},
     "output_type": "execute_result"
    }
   ],
   "source": [
    "model_ug_dmc.wv.most_similar('trump')"
   ]
  },
  {
   "cell_type": "code",
   "execution_count": 27,
   "metadata": {},
   "outputs": [
    {
     "data": {
      "text/plain": [
       "[('cuter', 0.51545649766922),\n",
       " ('crafted', 0.44468358159065247),\n",
       " ('commander', 0.4290488660335541),\n",
       " ('sadder', 0.42540547251701355),\n",
       " ('stronger', 0.4188271462917328),\n",
       " ('quicker', 0.41688770055770874),\n",
       " ('cheaper', 0.4153549075126648),\n",
       " ('sostenitori', 0.4137251079082489),\n",
       " ('louder', 0.4133688807487488),\n",
       " ('weaker', 0.41242820024490356)]"
      ]
     },
     "execution_count": 27,
     "metadata": {},
     "output_type": "execute_result"
    }
   ],
   "source": [
    "model_ug_dmc.wv.most_similar(positive=['bigger', 'small'], negative=['big'])"
   ]
  },
  {
   "cell_type": "code",
   "execution_count": 28,
   "metadata": {},
   "outputs": [],
   "source": [
    "y0_fox = model_ug_dmc.wv.similarity('fox', 'trump')\n",
    "y0_hillary = model_ug_dmc.wv.similarity('hillary', 'trump')\n",
    "y0_obama = model_ug_dmc.wv.similarity('obama', 'trump')\n",
    "y0_president = model_ug_dmc.wv.similarity('president', 'trump')\n",
    "y0_criminal = model_ug_dmc.wv.similarity('criminal', 'trump')\n",
    "y0_taxes = model_ug_dmc.wv.similarity('taxes', 'trump')"
   ]
  },
  {
   "cell_type": "code",
   "execution_count": 29,
   "metadata": {},
   "outputs": [],
   "source": [
    "train_vecs_dmc = get_vectors(model_ug_dmc, x_train, 100)\n",
    "validation_vecs_dmc = get_vectors(model_ug_dmc, x_validation, 100)"
   ]
  },
  {
   "cell_type": "code",
   "execution_count": 30,
   "metadata": {},
   "outputs": [
    {
     "name": "stderr",
     "output_type": "stream",
     "text": [
      "/Users/computer/miniconda3/lib/python3.7/site-packages/sklearn/linear_model/logistic.py:432: FutureWarning: Default solver will be changed to 'lbfgs' in 0.22. Specify a solver to silence this warning.\n",
      "  FutureWarning)\n",
      "/Users/computer/miniconda3/lib/python3.7/site-packages/sklearn/linear_model/logistic.py:469: FutureWarning: Default multi_class will be changed to 'auto' in 0.22. Specify the multi_class option to silence this warning.\n",
      "  \"this warning.\", FutureWarning)\n"
     ]
    },
    {
     "data": {
      "text/plain": [
       "LogisticRegression(C=1.0, class_weight=None, dual=False, fit_intercept=True,\n",
       "                   intercept_scaling=1, l1_ratio=None, max_iter=100,\n",
       "                   multi_class='warn', n_jobs=None, penalty='l2',\n",
       "                   random_state=None, solver='warn', tol=0.0001, verbose=0,\n",
       "                   warm_start=False)"
      ]
     },
     "execution_count": 30,
     "metadata": {},
     "output_type": "execute_result"
    }
   ],
   "source": [
    "clf = LogisticRegression()\n",
    "clf.fit(train_vecs_dmc, y_train)"
   ]
  },
  {
   "cell_type": "code",
   "execution_count": 31,
   "metadata": {},
   "outputs": [
    {
     "data": {
      "text/plain": [
       "0.5659911023232822"
      ]
     },
     "execution_count": 31,
     "metadata": {},
     "output_type": "execute_result"
    }
   ],
   "source": [
    "clf.score(validation_vecs_dmc, y_validation)"
   ]
  },
  {
   "cell_type": "code",
   "execution_count": 32,
   "metadata": {},
   "outputs": [],
   "source": [
    "model_ug_dmc.save('d2v_model_ug_dmc.doc2vec')\n",
    "model_ug_dmc = Doc2Vec.load('d2v_model_ug_dmc.doc2vec')\n",
    "model_ug_dmc.delete_temporary_training_data(keep_doctags_vectors=True, keep_inference=True)"
   ]
  },
  {
   "cell_type": "markdown",
   "metadata": {},
   "source": [
    "#### Distributed memory (mean)"
   ]
  },
  {
   "cell_type": "code",
   "execution_count": 33,
   "metadata": {},
   "outputs": [
    {
     "name": "stderr",
     "output_type": "stream",
     "text": [
      "/Users/computer/miniconda3/lib/python3.7/site-packages/gensim/models/doc2vec.py:574: UserWarning: The parameter `size` is deprecated, will be removed in 4.0.0, use `vector_size` instead.\n",
      "  warnings.warn(\"The parameter `size` is deprecated, will be removed in 4.0.0, use `vector_size` instead.\")\n",
      "100%|██████████| 202315/202315 [00:00<00:00, 969344.10it/s] \n",
      "100%|██████████| 202315/202315 [00:00<00:00, 2177860.34it/s]\n",
      "100%|██████████| 202315/202315 [00:00<00:00, 2089421.82it/s]\n",
      "100%|██████████| 202315/202315 [00:00<00:00, 1776683.34it/s]\n",
      "100%|██████████| 202315/202315 [00:00<00:00, 2169181.06it/s]\n",
      "100%|██████████| 202315/202315 [00:00<00:00, 2192213.10it/s]\n",
      "100%|██████████| 202315/202315 [00:00<00:00, 2139910.01it/s]\n",
      "100%|██████████| 202315/202315 [00:00<00:00, 1891382.42it/s]\n",
      "100%|██████████| 202315/202315 [00:00<00:00, 2114301.34it/s]\n",
      "100%|██████████| 202315/202315 [00:00<00:00, 967416.80it/s]\n",
      "100%|██████████| 202315/202315 [00:00<00:00, 2177044.58it/s]\n",
      "100%|██████████| 202315/202315 [00:00<00:00, 1568310.77it/s]\n",
      "100%|██████████| 202315/202315 [00:00<00:00, 2377408.00it/s]\n",
      "100%|██████████| 202315/202315 [00:00<00:00, 2159361.11it/s]\n",
      "100%|██████████| 202315/202315 [00:00<00:00, 2040696.58it/s]\n",
      "100%|██████████| 202315/202315 [00:00<00:00, 2278671.99it/s]\n",
      "100%|██████████| 202315/202315 [00:00<00:00, 2359552.58it/s]\n",
      "100%|██████████| 202315/202315 [00:00<00:00, 930770.70it/s] \n",
      "100%|██████████| 202315/202315 [00:00<00:00, 2418558.54it/s]\n",
      "100%|██████████| 202315/202315 [00:00<00:00, 2185060.97it/s]\n",
      "100%|██████████| 202315/202315 [00:00<00:00, 2101322.13it/s]\n",
      "100%|██████████| 202315/202315 [00:00<00:00, 1641513.61it/s]\n",
      "100%|██████████| 202315/202315 [00:00<00:00, 2355191.02it/s]\n",
      "100%|██████████| 202315/202315 [00:00<00:00, 2442119.57it/s]\n",
      "100%|██████████| 202315/202315 [00:00<00:00, 1937309.48it/s]\n",
      "100%|██████████| 202315/202315 [00:00<00:00, 2209474.08it/s]\n",
      "100%|██████████| 202315/202315 [00:00<00:00, 2442646.80it/s]\n",
      "100%|██████████| 202315/202315 [00:00<00:00, 2321772.26it/s]\n",
      "100%|██████████| 202315/202315 [00:00<00:00, 2120811.50it/s]\n",
      "100%|██████████| 202315/202315 [00:00<00:00, 1030584.14it/s]\n",
      "100%|██████████| 202315/202315 [00:00<00:00, 2124863.50it/s]\n",
      "/Users/computer/miniconda3/lib/python3.7/site-packages/sklearn/linear_model/logistic.py:432: FutureWarning: Default solver will be changed to 'lbfgs' in 0.22. Specify a solver to silence this warning.\n",
      "  FutureWarning)\n",
      "/Users/computer/miniconda3/lib/python3.7/site-packages/sklearn/linear_model/logistic.py:469: FutureWarning: Default multi_class will be changed to 'auto' in 0.22. Specify the multi_class option to silence this warning.\n",
      "  \"this warning.\", FutureWarning)\n"
     ]
    },
    {
     "data": {
      "text/plain": [
       "0.652496292634701"
      ]
     },
     "execution_count": 33,
     "metadata": {},
     "output_type": "execute_result"
    }
   ],
   "source": [
    "cores = multiprocessing.cpu_count()\n",
    "model_ug_dmm = Doc2Vec(dm=1, dm_mean=1, size=100, window=4, negative=5, min_count=2, workers=cores, alpha=0.065, min_alpha=0.065)\n",
    "model_ug_dmm.build_vocab([x for x in tqdm(all_x_w2v)])\n",
    "\n",
    "for epoch in range(30):\n",
    "    model_ug_dmm.train(utils.shuffle([x for x in tqdm(all_x_w2v)]), total_examples=len(all_x_w2v), epochs=1)\n",
    "    model_ug_dmm.alpha -= 0.002\n",
    "    model_ug_dmm.min_alpha = model_ug_dmm.alpha\n",
    "    \n",
    "train_vecs_dmm = get_vectors(model_ug_dmm, x_train, 100)\n",
    "validation_vecs_dmm = get_vectors(model_ug_dmm, x_validation, 100)\n",
    "\n",
    "clf = LogisticRegression()\n",
    "clf.fit(train_vecs_dmm, y_train)\n",
    "clf.score(validation_vecs_dmm, y_validation)"
   ]
  },
  {
   "cell_type": "code",
   "execution_count": 34,
   "metadata": {},
   "outputs": [
    {
     "data": {
      "text/plain": [
       "[('him', 0.8262977004051208),\n",
       " ('it', 0.8146343231201172),\n",
       " ('he', 0.8124476671218872),\n",
       " ('you', 0.8083059787750244),\n",
       " ('hillary', 0.8004218339920044),\n",
       " ('that', 0.7977581024169922),\n",
       " ('the', 0.7933000922203064),\n",
       " ('they', 0.7879745960235596),\n",
       " ('this', 0.7829478979110718),\n",
       " ('she', 0.7808768153190613)]"
      ]
     },
     "execution_count": 34,
     "metadata": {},
     "output_type": "execute_result"
    }
   ],
   "source": [
    "model_ug_dmm.wv.most_similar('trump')"
   ]
  },
  {
   "cell_type": "code",
   "execution_count": 35,
   "metadata": {},
   "outputs": [
    {
     "data": {
      "text/plain": [
       "[('she', 0.8227502107620239),\n",
       " ('trump', 0.8004218339920044),\n",
       " ('he', 0.7783733606338501),\n",
       " ('her', 0.7783688306808472),\n",
       " ('hrc', 0.7767571210861206),\n",
       " ('it', 0.7683634161949158),\n",
       " ('you', 0.7667920589447021),\n",
       " ('him', 0.7522196769714355),\n",
       " ('the', 0.7493163347244263),\n",
       " ('that', 0.7488702535629272)]"
      ]
     },
     "execution_count": 35,
     "metadata": {},
     "output_type": "execute_result"
    }
   ],
   "source": [
    "model_ug_dmm.wv.most_similar('hillary')"
   ]
  },
  {
   "cell_type": "code",
   "execution_count": 36,
   "metadata": {},
   "outputs": [],
   "source": [
    "x = model_ug_dmm.wv.most_similar('blacklivesmatter')"
   ]
  },
  {
   "cell_type": "code",
   "execution_count": 37,
   "metadata": {},
   "outputs": [
    {
     "name": "stdout",
     "output_type": "stream",
     "text": [
      "[('blm', 0.6468650698661804), ('cops', 0.6323459148406982), ('trump', 0.5920842885971069), ('racist', 0.588814377784729), ('policebrutality', 0.5836731195449829), ('racism', 0.5762604475021362), ('black', 0.5746322870254517), ('it', 0.5738137364387512), ('this', 0.5668563842773438), ('again', 0.5588103532791138)]\n"
     ]
    }
   ],
   "source": [
    "print(x)"
   ]
  },
  {
   "cell_type": "code",
   "execution_count": 38,
   "metadata": {},
   "outputs": [
    {
     "data": {
      "text/plain": [
       "[('media', 0.6729427576065063),\n",
       " ('fox', 0.6644992828369141),\n",
       " ('trump', 0.6575020551681519),\n",
       " ('it', 0.6553632616996765),\n",
       " ('hillary', 0.6430875062942505),\n",
       " ('msm', 0.6416670680046082),\n",
       " ('him', 0.6260520815849304),\n",
       " ('she', 0.6246818900108337),\n",
       " ('he', 0.612838864326477),\n",
       " ('potus', 0.6126385927200317)]"
      ]
     },
     "execution_count": 38,
     "metadata": {},
     "output_type": "execute_result"
    }
   ],
   "source": [
    "model_ug_dmm.wv.most_similar('cnn')"
   ]
  },
  {
   "cell_type": "code",
   "execution_count": 39,
   "metadata": {},
   "outputs": [
    {
     "data": {
      "text/plain": [
       "[('teen', 0.7515121698379517),\n",
       " ('cop', 0.7218312621116638),\n",
       " ('girl', 0.7149872779846191),\n",
       " ('person', 0.6940773725509644),\n",
       " ('men', 0.6790602207183838),\n",
       " ('guy', 0.6759276986122131),\n",
       " ('ppl', 0.6666580438613892),\n",
       " ('people', 0.6592268943786621),\n",
       " ('officer', 0.6575053930282593),\n",
       " ('someone', 0.6572706699371338)]"
      ]
     },
     "execution_count": 39,
     "metadata": {},
     "output_type": "execute_result"
    }
   ],
   "source": [
    "model_ug_dmm.wv.most_similar(positive=['man', 'woman'], negative=['king'])"
   ]
  },
  {
   "cell_type": "code",
   "execution_count": 40,
   "metadata": {},
   "outputs": [],
   "source": [
    "y1_fox = model_ug_dmm.wv.similarity('fox', 'trump')\n",
    "y1_hillary = model_ug_dmm.wv.similarity('hillary', 'trump')\n",
    "y1_obama = model_ug_dmm.wv.similarity('obama', 'trump')\n",
    "y1_president = model_ug_dmm.wv.similarity('president', 'trump')\n",
    "y1_criminal = model_ug_dmm.wv.similarity('criminal', 'trump')\n",
    "y1_taxes = model_ug_dmm.wv.similarity('taxes', 'trump')"
   ]
  },
  {
   "cell_type": "markdown",
   "metadata": {},
   "source": [
    "#### Pretrained models with Word2Vec"
   ]
  },
  {
   "cell_type": "code",
   "execution_count": 50,
   "metadata": {},
   "outputs": [],
   "source": [
    "from gensim.models.word2vec import Word2Vec\n",
    "import gensim.downloader as api\n",
    "# model = api.load(\"glove-twitter-25\")\n",
    "corpus = api.load(\"text8\")\n",
    "#model.wv.most_similar(\"news\")\n",
    "#corpus = api.load('text8')  # download the corpus and return it opened as an iterable\n",
    "#corpus = api.load('fake-news') \n",
    "\n",
    "model = Word2Vec(corpus)  # train a model from the corpus\n",
    "\n",
    "\n",
    "#import gensim.downloader as api\n",
    "\n",
    "# info = api.info()  # show info about available models/datasets\n",
    "# model = api.load(\"glove-twitter-25\")  # download the model and return as object ready for use\n",
    "# model.most_similar(\"cat\")"
   ]
  },
  {
   "cell_type": "code",
   "execution_count": 51,
   "metadata": {},
   "outputs": [
    {
     "data": {
      "text/plain": [
       "[('men', 0.7940289974212646),\n",
       " ('children', 0.7131551504135132),\n",
       " ('male', 0.6445639133453369),\n",
       " ('female', 0.6438608765602112),\n",
       " ('adults', 0.6220019459724426),\n",
       " ('heterosexual', 0.6185092329978943),\n",
       " ('homosexual', 0.6064670085906982),\n",
       " ('sex', 0.5966623425483704),\n",
       " ('sexual', 0.5919816493988037),\n",
       " ('gays', 0.5716789960861206)]"
      ]
     },
     "execution_count": 51,
     "metadata": {},
     "output_type": "execute_result"
    }
   ],
   "source": [
    "w1 = \"women\"\n",
    "model.wv.most_similar (positive=w1)"
   ]
  },
  {
   "cell_type": "code",
   "execution_count": 52,
   "metadata": {},
   "outputs": [
    {
     "data": {
      "text/plain": [
       "[('akimbo', 0.6082814335823059),\n",
       " ('pinball', 0.584327220916748),\n",
       " ('gamemaster', 0.5843101143836975),\n",
       " ('dummy', 0.582275927066803),\n",
       " ('zoot', 0.578942596912384),\n",
       " ('pcmcia', 0.5759906768798828),\n",
       " ('forsyth', 0.5731480121612549),\n",
       " ('bunt', 0.5723764896392822),\n",
       " ('advert', 0.5698249340057373),\n",
       " ('strat', 0.5679572820663452)]"
      ]
     },
     "execution_count": 52,
     "metadata": {},
     "output_type": "execute_result"
    }
   ],
   "source": [
    "model.wv.most_similar(\"trump\")"
   ]
  },
  {
   "cell_type": "code",
   "execution_count": 53,
   "metadata": {},
   "outputs": [
    {
     "data": {
      "text/plain": [
       "[('barack', 0.9183728098869324),\n",
       " ('carleton', 0.7998833060264587),\n",
       " ('bayard', 0.7987441420555115),\n",
       " ('tarrant', 0.7971523404121399),\n",
       " ('armando', 0.79530930519104),\n",
       " ('kilpatrick', 0.788608193397522),\n",
       " ('ramgoolam', 0.7872176766395569),\n",
       " ('khieu', 0.7854219675064087),\n",
       " ('susilo', 0.784654974937439),\n",
       " ('isaias', 0.7820139527320862)]"
      ]
     },
     "execution_count": 53,
     "metadata": {},
     "output_type": "execute_result"
    }
   ],
   "source": [
    "model.wv.most_similar(\"obama\")"
   ]
  },
  {
   "cell_type": "code",
   "execution_count": 54,
   "metadata": {},
   "outputs": [
    {
     "data": {
      "text/plain": [
       "[('npr', 0.7904016971588135),\n",
       " ('msnbc', 0.7881537675857544),\n",
       " ('espn', 0.7715169191360474),\n",
       " ('reuters', 0.7699607610702515),\n",
       " ('news', 0.7586106061935425),\n",
       " ('pbs', 0.7559739351272583),\n",
       " ('cbc', 0.7346372008323669),\n",
       " ('blog', 0.7327086329460144),\n",
       " ('cbs', 0.729853630065918),\n",
       " ('slashdot', 0.729229211807251)]"
      ]
     },
     "execution_count": 54,
     "metadata": {},
     "output_type": "execute_result"
    }
   ],
   "source": [
    "model.wv.most_similar(\"cnn\")"
   ]
  },
  {
   "cell_type": "code",
   "execution_count": 55,
   "metadata": {},
   "outputs": [],
   "source": [
    "y2_fox = model.wv.similarity('fox', 'trump')\n",
    "y2_hillary = model.wv.similarity('hillary', 'trump')\n",
    "y2_obama = model.wv.similarity('obama', 'trump')\n",
    "y2_president = model.wv.similarity('president', 'trump')\n",
    "y2_criminal = model.wv.similarity('criminal', 'trump')\n",
    "y2_taxes = model.wv.similarity('taxes', 'trump')\n",
    "y2_russia = model.wv.similarity('russia', 'trump')\n",
    "y1_russia = model_ug_dmm.wv.similarity('russia', 'trump')\n",
    "y0_russia = model_ug_dmc.wv.similarity('russia', 'trump')"
   ]
  },
  {
   "cell_type": "code",
   "execution_count": 57,
   "metadata": {},
   "outputs": [
    {
     "data": {
      "image/png": "[encoded data removed]",
      "text/plain": [
       "<Figure size 1440x720 with 1 Axes>"
      ]
     },
     "metadata": {
      "image/png": {
       "height": 578,
       "width": 1299
      },
      "needs_background": "light"
     },
     "output_type": "display_data"
    }
   ],
   "source": [
    "x = ['fox', 'hillary', 'obama', 'president','criminal','taxes','russia']\n",
    "y2 = [y2_fox, y2_hillary, y2_obama, y2_president, y2_criminal, y2_taxes, y2_russia]\n",
    "y1 = [y1_fox, y1_hillary, y1_obama, y1_president, y1_criminal, y1_taxes, y1_russia]\n",
    "y0 = [y0_fox, y0_hillary, y0_obama, y0_president, y0_criminal, y0_taxes, y0_russia]\n",
    "plt.figure(figsize=(20,10))\n",
    "plt.rc('font', size=18) \n",
    "#plt.plot(x, y0)\n",
    "plt.plot(x, y1)\n",
    "plt.plot(x, y2)\n",
    "#plt.legend(['russian trolls - dmc', 'russian trolls - dmm','glove-twitter-25 - pre_defined'], loc=4)\n",
    "plt.legend(['russian trolls - dmm','text8 - pre_defined'], loc=4)\n",
    "plt.show()"
   ]
  },
  {
   "cell_type": "code",
   "execution_count": null,
   "metadata": {},
   "outputs": [],
   "source": []
  }
 ],
 "metadata": {
  "kernelspec": {
   "display_name": "Python 3",
   "language": "python",
   "name": "python3"
  },
  "language_info": {
   "codemirror_mode": {
    "name": "ipython",
    "version": 3
   },
   "file_extension": ".py",
   "mimetype": "text/x-python",
   "name": "python",
   "nbconvert_exporter": "python",
   "pygments_lexer": "ipython3",
   "version": "3.7.3"
  }
 },
 "nbformat": 4,
 "nbformat_minor": 2
}
